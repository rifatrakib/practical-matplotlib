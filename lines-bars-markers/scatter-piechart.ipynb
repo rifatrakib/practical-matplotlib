{
 "cells": [
  {
   "cell_type": "code",
   "execution_count": 1,
   "metadata": {},
   "outputs": [],
   "source": [
    "import numpy as np\n",
    "import matplotlib.pyplot as plt"
   ]
  },
  {
   "cell_type": "code",
   "execution_count": 2,
   "metadata": {},
   "outputs": [],
   "source": [
    "# first define the ratios\n",
    "r1 = 0.2\n",
    "r2 = r1 + 0.4\n",
    "\n",
    "# define some sizes of the scatter marker\n",
    "sizes = np.array([60, 80, 120])"
   ]
  },
  {
   "cell_type": "code",
   "execution_count": 3,
   "metadata": {},
   "outputs": [],
   "source": [
    "# calculate the points of the first pie marker\n",
    "# these are just the origin (0, 0) + some (cos, sin) points on a circle\n",
    "x1 = np.cos(2 * np.pi * np.linspace(0, r1))\n",
    "y1 = np.sin(2 * np.pi * np.linspace(0, r1))\n",
    "\n",
    "xy1 = np.row_stack([[0, 0], np.column_stack([x1, y1])])\n",
    "s1 = np.abs(xy1).max()"
   ]
  },
  {
   "cell_type": "code",
   "execution_count": 4,
   "metadata": {},
   "outputs": [],
   "source": [
    "x2 = np.cos(2 * np.pi * np.linspace(r1, r2))\n",
    "y2 = np.sin(2 * np.pi * np.linspace(r1, r2))\n",
    "\n",
    "xy2 = np.row_stack([[0, 0], np.column_stack([x2, y2])])\n",
    "s2 = np.abs(xy2).max()"
   ]
  },
  {
   "cell_type": "code",
   "execution_count": 5,
   "metadata": {},
   "outputs": [],
   "source": [
    "x3 = np.cos(2 * np.pi * np.linspace(r2, 1))\n",
    "y3 = np.sin(2 * np.pi * np.linspace(r2, 1))\n",
    "\n",
    "xy3 = np.row_stack([[0, 0], np.column_stack([x3, y3])])\n",
    "s3 = np.abs(xy3).max()"
   ]
  },
  {
   "cell_type": "code",
   "execution_count": 6,
   "metadata": {},
   "outputs": [
    {
     "data": {
      "image/png": "[encoded data removed]",
      "text/plain": [
       "<Figure size 432x288 with 1 Axes>"
      ]
     },
     "metadata": {
      "needs_background": "light"
     },
     "output_type": "display_data"
    }
   ],
   "source": [
    "fig, ax = plt.subplots()\n",
    "\n",
    "ax.scatter(range(3), range(3), marker=xy1, s=s1**2 * sizes, facecolor=\"blue\")\n",
    "ax.scatter(range(3), range(3), marker=xy2, s=s2**2 * sizes, facecolor=\"green\")\n",
    "ax.scatter(range(3), range(3), marker=xy3, s=s3**2 * sizes, facecolor=\"red\")\n",
    "\n",
    "plt.show()"
   ]
  },
  {
   "cell_type": "code",
   "execution_count": null,
   "metadata": {},
   "outputs": [],
   "source": []
  }
 ],
 "metadata": {
  "kernelspec": {
   "display_name": "Python 3.9.6 ('graph-env': venv)",
   "language": "python",
   "name": "python3"
  },
  "language_info": {
   "codemirror_mode": {
    "name": "ipython",
    "version": 3
   },
   "file_extension": ".py",
   "mimetype": "text/x-python",
   "name": "python",
   "nbconvert_exporter": "python",
   "pygments_lexer": "ipython3",
   "version": "3.9.6"
  },
  "orig_nbformat": 4,
  "vscode": {
   "interpreter": {
    "hash": "8a1d382fcd897a4f5be1c26381092307a09c0027141ddd02f76b68eefa3c14a2"
   }
  }
 },
 "nbformat": 4,
 "nbformat_minor": 2
}

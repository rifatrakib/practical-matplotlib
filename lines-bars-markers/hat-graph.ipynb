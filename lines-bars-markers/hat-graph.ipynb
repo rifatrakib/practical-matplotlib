{
 "cells": [
  {
   "cell_type": "code",
   "execution_count": 1,
   "metadata": {},
   "outputs": [],
   "source": [
    "import numpy as np\n",
    "import matplotlib.pyplot as plt"
   ]
  },
  {
   "cell_type": "code",
   "execution_count": 2,
   "metadata": {},
   "outputs": [],
   "source": [
    "def hat_graph_drawer(ax, xlabels, values, group_labels):\n",
    "    \"\"\"\n",
    "    Create a hat graph.\n",
    "    \n",
    "    Parameters\n",
    "    ----------\n",
    "    ax : matplotlib.axes.Axes\n",
    "        The Axes to plot into.\n",
    "    xlabels : list of str\n",
    "        The category names to be displayed on the x-axis.\n",
    "    values : (M, N) array-like\n",
    "        The data values.\n",
    "        Rows are the groups (len(group_labels) == M).\n",
    "        Columns are the categories (len(xlabels) == N).\n",
    "    group_labels : list of str\n",
    "        The group labels displayed in the legend.\n",
    "    \"\"\"\n",
    "    def label_bars(heights, rects):\n",
    "        \"\"\"Attach a text label on top of each bar.\"\"\"\n",
    "        for height, rect in zip(heights, rects):\n",
    "            ax.annotate(\n",
    "                f\"{height}\", xy=(rect.get_x() + rect.get_width() / 2, height),\n",
    "                xytext=(0, 4), # 4 points vertical offset\n",
    "                textcoords=\"offset points\", ha=\"center\", va=\"bottom\",\n",
    "            )\n",
    "    \n",
    "    values = np.asarray(values)\n",
    "    x = np.arange(values.shape[1])\n",
    "    ax.set_xticks(x, labels=xlabels)\n",
    "    spacing = 0.3 # spacing between hat groups\n",
    "    width = (1 - spacing) / values.shape[0]\n",
    "    heights_0 = values[0]\n",
    "    \n",
    "    for i, (heights, group_label) in enumerate(zip(values, group_labels)):\n",
    "        style = {\"fill\": False} if i == 0 else {\"edgecolor\": \"black\"}\n",
    "        rects = ax.bar(\n",
    "            x - spacing / 2 + i * width, heights - heights_0, width,\n",
    "            bottom=heights_0, label=group_label, **style,\n",
    "        )\n",
    "        label_bars(heights, rects)"
   ]
  },
  {
   "cell_type": "code",
   "execution_count": 3,
   "metadata": {},
   "outputs": [],
   "source": [
    "# initialise labels and a numpy array make sure you have\n",
    "# n labels of n number of values in the array\n",
    "xlabels = [\"I\", \"II\", \"III\", \"IV\", \"V\"]\n",
    "player_a = np.array([5, 15, 22, 20, 25])\n",
    "player_b = np.array([25, 32, 34, 30, 27])"
   ]
  },
  {
   "cell_type": "code",
   "execution_count": 4,
   "metadata": {},
   "outputs": [
    {
     "data": {
      "image/png": "[encoded data removed]",
      "text/plain": [
       "<Figure size 432x288 with 1 Axes>"
      ]
     },
     "metadata": {
      "needs_background": "light"
     },
     "output_type": "display_data"
    }
   ],
   "source": [
    "fig, ax = plt.subplots()\n",
    "hat_graph_drawer(ax, xlabels, [player_a, player_b], [\"Player A\", \"Player B\"])\n",
    "\n",
    "# add some text for labels, title and custom x-axis tick labels, etc.\n",
    "ax.set_xlabel(\"Games\")\n",
    "ax.set_ylabel(\"Score\")\n",
    "ax.set_ylim(0, 60)\n",
    "ax.set_title(\"Score by number of game and player\")\n",
    "ax.legend()\n",
    "\n",
    "fig.tight_layout()\n",
    "plt.show()"
   ]
  },
  {
   "cell_type": "code",
   "execution_count": null,
   "metadata": {},
   "outputs": [],
   "source": []
  }
 ],
 "metadata": {
  "kernelspec": {
   "display_name": "Python 3.9.6 ('graph-env': venv)",
   "language": "python",
   "name": "python3"
  },
  "language_info": {
   "codemirror_mode": {
    "name": "ipython",
    "version": 3
   },
   "file_extension": ".py",
   "mimetype": "text/x-python",
   "name": "python",
   "nbconvert_exporter": "python",
   "pygments_lexer": "ipython3",
   "version": "3.9.6"
  },
  "orig_nbformat": 4,
  "vscode": {
   "interpreter": {
    "hash": "8a1d382fcd897a4f5be1c26381092307a09c0027141ddd02f76b68eefa3c14a2"
   }
  }
 },
 "nbformat": 4,
 "nbformat_minor": 2
}

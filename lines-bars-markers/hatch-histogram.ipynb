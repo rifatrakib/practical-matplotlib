{
 "cells": [
  {
   "cell_type": "code",
   "execution_count": 1,
   "metadata": {},
   "outputs": [],
   "source": [
    "import itertools\n",
    "from functools import partial\n",
    "\n",
    "import numpy as np\n",
    "import matplotlib.pyplot as plt\n",
    "import matplotlib.ticker as mticker\n",
    "from cycler import cycler"
   ]
  },
  {
   "cell_type": "code",
   "execution_count": 2,
   "metadata": {},
   "outputs": [],
   "source": [
    "def filled_histogram(ax, edges, values, bottoms=None, orientation=\"v\", **kwargs):\n",
    "    \"\"\"Draw a histogram as a stepped patch.\n",
    "    \n",
    "    Parameters\n",
    "    ----------\n",
    "    ax : Axes\n",
    "        The axes to plot to\n",
    "    \n",
    "    edges : array\n",
    "        A length n+1 array giving the left edges of each bin and the\n",
    "        right edge of the last bin.\n",
    "    \n",
    "    values : array\n",
    "        A length n array of bin counts or values\n",
    "    \n",
    "    bottoms : float or array, optional\n",
    "        A length n array of the bottom of the bars.  If None, zero is used.\n",
    "    \n",
    "    orientation : {'v', 'h'}\n",
    "        Orientation of the histogram.  'v' (default) has\n",
    "        the bars increasing in the positive y-direction.\n",
    "    \n",
    "    **kwargs\n",
    "        Extra keyword arguments are passed through to `.fill_between`.\n",
    "    \n",
    "    Returns\n",
    "    -------\n",
    "    ret : PolyCollection\n",
    "        Artist added to the Axes\n",
    "    \"\"\"\n",
    "    print(orientation)\n",
    "    if orientation not in \"hv\":\n",
    "        raise ValueError(f\"orientation must be in {{'h', 'v'}}, not {orientation}\")\n",
    "    \n",
    "    kwargs.setdefault(\"step\", \"post\")\n",
    "    kwargs.setdefault(\"alpha\", 0.7)\n",
    "    edges = np.asarray(edges)\n",
    "    values = np.asarray(values)\n",
    "    \n",
    "    if len(edges) - 1 != len(values):\n",
    "        raise ValueError(f\"Must provide one more bin edge than value not: {len(edges)=} {len(values)=}\")\n",
    "    \n",
    "    if bottoms is None:\n",
    "        bottoms = 0\n",
    "    bottoms = np.broadcast_to(bottoms, values.shape)\n",
    "    \n",
    "    values = np.append(values, values[-1])\n",
    "    bottoms = np.append(bottoms, bottoms[-1])\n",
    "    \n",
    "    if orientation == \"h\":\n",
    "        return ax.fill_betweenx(edges, values, bottoms, **kwargs)\n",
    "    elif orientation == \"v\":\n",
    "        return ax.fill_between(edges, values, bottoms, **kwargs)\n",
    "    else:\n",
    "        raise AssertionError(\"you should never be here\")"
   ]
  },
  {
   "cell_type": "code",
   "execution_count": 3,
   "metadata": {},
   "outputs": [],
   "source": [
    "def stack_histogram(\n",
    "        ax, stacked_data, sty_cycle, bottoms=None, hist_function=None,\n",
    "        labels=None, plot_function=None, plot_kwargs=None):\n",
    "    \"\"\"\n",
    "    Parameters\n",
    "    ----------\n",
    "    ax : axes.Axes\n",
    "        The axes to add artists too\n",
    "    \n",
    "    stacked_data : array or Mapping\n",
    "        A (M, N) shaped array.  The first dimension will be iterated over to\n",
    "        compute histograms row-wise\n",
    "    \n",
    "    sty_cycle : Cycler or operable of dict\n",
    "        Style to apply to each set\n",
    "    \n",
    "    bottoms : array, default: 0\n",
    "        The initial positions of the bottoms.\n",
    "    \n",
    "    hist_func : callable, optional\n",
    "        Must have signature `bin_vals, bin_edges = f(data)`.\n",
    "        `bin_edges` expected to be one longer than `bin_vals`\n",
    "    \n",
    "    labels : list of str, optional\n",
    "        The label for each set.\n",
    "        \n",
    "        If not given and stacked data is an array defaults to 'default set {n}'\n",
    "        \n",
    "        If *stacked_data* is a mapping, and *labels* is None, default to the\n",
    "        keys.\n",
    "        \n",
    "        If *stacked_data* is a mapping and *labels* is given then only the\n",
    "        columns listed will be plotted.\n",
    "    \n",
    "    plot_func : callable, optional\n",
    "        Function to call to draw the histogram must have signature:\n",
    "        \n",
    "        ret = plot_func(ax, edges, top, bottoms=bottoms,\n",
    "                        label=label, **kwargs)\n",
    "    \n",
    "    plot_kwargs : dict, optional\n",
    "        Any extra keyword arguments to pass through to the plotting function.\n",
    "        This will be the same for all calls to the plotting function and will\n",
    "        override the values in *sty_cycle*.\n",
    "    \n",
    "    Returns\n",
    "    -------\n",
    "    arts : dict\n",
    "        Dictionary of artists keyed on their labels\n",
    "    \"\"\"\n",
    "    # deal with default binning function\n",
    "    if hist_function is None:\n",
    "        hist_function = np.histogram\n",
    "    \n",
    "    # deal with default plotting function\n",
    "    if plot_function is None:\n",
    "        plot_function = filled_histogram\n",
    "    \n",
    "    # deal with default\n",
    "    if plot_kwargs is None:\n",
    "        plot_kwargs = {}\n",
    "    print(plot_kwargs)\n",
    "    \n",
    "    try:\n",
    "        l_keys = stacked_data.keys()\n",
    "        label_data = True\n",
    "        if labels is None:\n",
    "            labels = l_keys\n",
    "    except AttributeError:\n",
    "        label_data = False\n",
    "        if labels is None:\n",
    "            labels = itertools.repeat(None)\n",
    "    \n",
    "    if label_data:\n",
    "        loop_iter = enumerate(\n",
    "            (stacked_data[label], label, s) for label, s in zip(labels, sty_cycle)\n",
    "        )\n",
    "    else:\n",
    "        loop_iter = enumerate(zip(stacked_data, labels, sty_cycle))\n",
    "    \n",
    "    arts = {}\n",
    "    for j, (data, label, sty) in loop_iter:\n",
    "        if label is None:\n",
    "            label = f\"default set {j}\"\n",
    "        \n",
    "        label = sty.pop(\"label\", label)\n",
    "        values, edges = hist_function(data)\n",
    "        \n",
    "        if bottoms is None:\n",
    "            bottoms = np.zeros_like(values)\n",
    "        \n",
    "        top = bottoms + values\n",
    "        print(f\"Before: {sty=}\")\n",
    "        sty.update(plot_kwargs)\n",
    "        print(f\"After: {sty=}\")\n",
    "        \n",
    "        ret = plot_function(ax, edges, top, bottoms=bottoms, label=label, **sty)\n",
    "        bottoms = top\n",
    "        arts[label] = ret\n",
    "    \n",
    "    ax.legend(fontsize=10)\n",
    "    return arts"
   ]
  },
  {
   "cell_type": "code",
   "execution_count": 4,
   "metadata": {},
   "outputs": [],
   "source": [
    "# set up histogram function to fixed bins\n",
    "edges = np.linspace(-3, 3, 20, endpoint=True)\n",
    "hist_function = partial(np.histogram, bins=edges)"
   ]
  },
  {
   "cell_type": "code",
   "execution_count": 5,
   "metadata": {},
   "outputs": [],
   "source": [
    "# set up style cycles\n",
    "color_cycle = cycler(facecolor=plt.rcParams[\"axes.prop_cycle\"][:4])\n",
    "label_cycle = cycler(label=[f\"set {n}\" for n in range(4)])\n",
    "hatch_cycle = cycler(hatch=[\"/\", \"*\", \"+\", \"|\"])"
   ]
  },
  {
   "cell_type": "code",
   "execution_count": 6,
   "metadata": {},
   "outputs": [],
   "source": [
    "# fixing random state for reproducibility\n",
    "np.random.seed(198653982)"
   ]
  },
  {
   "cell_type": "code",
   "execution_count": 7,
   "metadata": {},
   "outputs": [],
   "source": [
    "# data\n",
    "stack_data = np.random.randn(4, 12250)\n",
    "dict_data = dict(zip((c[\"label\"] for c in label_cycle), stack_data))"
   ]
  },
  {
   "cell_type": "code",
   "execution_count": 8,
   "metadata": {},
   "outputs": [
    {
     "name": "stdout",
     "output_type": "stream",
     "text": [
      "{}\n",
      "Before: sty={'facecolor': '#1f77b4', 'hatch': '/'}\n",
      "After: sty={'facecolor': '#1f77b4', 'hatch': '/'}\n",
      "v\n",
      "Before: sty={'facecolor': '#ff7f0e', 'hatch': '*'}\n",
      "After: sty={'facecolor': '#ff7f0e', 'hatch': '*'}\n",
      "v\n",
      "Before: sty={'facecolor': '#2ca02c', 'hatch': '+'}\n",
      "After: sty={'facecolor': '#2ca02c', 'hatch': '+'}\n",
      "v\n",
      "Before: sty={'facecolor': '#d62728', 'hatch': '|'}\n",
      "After: sty={'facecolor': '#d62728', 'hatch': '|'}\n",
      "v\n",
      "{'edgecolor': 'w', 'orientation': 'h'}\n",
      "Before: sty={'facecolor': '#1f77b4'}\n",
      "After: sty={'facecolor': '#1f77b4', 'edgecolor': 'w', 'orientation': 'h'}\n",
      "h\n",
      "Before: sty={'facecolor': '#ff7f0e'}\n",
      "After: sty={'facecolor': '#ff7f0e', 'edgecolor': 'w', 'orientation': 'h'}\n",
      "h\n",
      "Before: sty={'facecolor': '#2ca02c'}\n",
      "After: sty={'facecolor': '#2ca02c', 'edgecolor': 'w', 'orientation': 'h'}\n",
      "h\n",
      "Before: sty={'facecolor': '#d62728'}\n",
      "After: sty={'facecolor': '#d62728', 'edgecolor': 'w', 'orientation': 'h'}\n",
      "h\n"
     ]
    },
    {
     "data": {
      "text/plain": [
       "Text(0, 0.5, 'x')"
      ]
     },
     "execution_count": 8,
     "metadata": {},
     "output_type": "execute_result"
    },
    {
     "data": {
      "image/png": "[encoded data removed]",
      "text/plain": [
       "<Figure size 648x324 with 2 Axes>"
      ]
     },
     "metadata": {
      "needs_background": "light"
     },
     "output_type": "display_data"
    }
   ],
   "source": [
    "# work with plain arrays\n",
    "fig, (ax1, ax2) = plt.subplots(1, 2, figsize=(9, 4.5), tight_layout=True)\n",
    "\n",
    "arts = stack_histogram(\n",
    "    ax1, stack_data,\n",
    "    color_cycle + label_cycle + hatch_cycle,\n",
    "    hist_function=hist_function,\n",
    ")\n",
    "\n",
    "arts = stack_histogram(\n",
    "    ax2, stack_data, color_cycle,\n",
    "    hist_function=hist_function,\n",
    "    plot_kwargs={\"edgecolor\": \"w\", \"orientation\": \"h\"}\n",
    ")\n",
    "\n",
    "ax1.set_ylabel(\"counts\")\n",
    "ax1.set_xlabel(\"x\")\n",
    "ax2.set_xlabel(\"counts\")\n",
    "ax2.set_ylabel(\"x\")"
   ]
  },
  {
   "cell_type": "code",
   "execution_count": null,
   "metadata": {},
   "outputs": [],
   "source": []
  }
 ],
 "metadata": {
  "kernelspec": {
   "display_name": "Python 3.9.6 ('graph-env': venv)",
   "language": "python",
   "name": "python3"
  },
  "language_info": {
   "name": "python",
   "version": "3.9.6"
  },
  "orig_nbformat": 4,
  "vscode": {
   "interpreter": {
    "hash": "8a1d382fcd897a4f5be1c26381092307a09c0027141ddd02f76b68eefa3c14a2"
   }
  }
 },
 "nbformat": 4,
 "nbformat_minor": 2
}

{
 "cells": [
  {
   "cell_type": "code",
   "execution_count": 1,
   "metadata": {},
   "outputs": [],
   "source": [
    "import matplotlib.pyplot as plt\n",
    "from matplotlib.lines import Line2D"
   ]
  },
  {
   "cell_type": "code",
   "execution_count": 2,
   "metadata": {},
   "outputs": [],
   "source": [
    "def format_axes(ax):\n",
    "    ax.margins(0.2)\n",
    "    ax.set_axis_off()\n",
    "    ax.invert_yaxis()"
   ]
  },
  {
   "cell_type": "code",
   "execution_count": 3,
   "metadata": {},
   "outputs": [],
   "source": [
    "def split_list(a_list):\n",
    "    i_half = len(a_list) // 2\n",
    "    return a_list[:i_half], a_list[i_half:]"
   ]
  },
  {
   "cell_type": "code",
   "execution_count": 4,
   "metadata": {},
   "outputs": [],
   "source": [
    "text_style = {\n",
    "    \"horizontalalignment\": \"right\",\n",
    "    \"verticalalignment\": \"center\",\n",
    "    \"fontsize\": 12,\n",
    "    \"fontfamily\": \"monospace\",\n",
    "}\n",
    "\n",
    "marker_style = {\n",
    "    \"linestyle\": \":\",\n",
    "    \"color\": \"0.8\",\n",
    "    \"markersize\": 10,\n",
    "    \"markerfacecolor\": \"tab:blue\",\n",
    "    \"markeredgecolor\": \"tab:blue\",\n",
    "}"
   ]
  },
  {
   "cell_type": "code",
   "execution_count": 5,
   "metadata": {},
   "outputs": [
    {
     "data": {
      "image/png": "[encoded data removed]",
      "text/plain": [
       "<Figure size 432x288 with 2 Axes>"
      ]
     },
     "metadata": {
      "needs_background": "light"
     },
     "output_type": "display_data"
    }
   ],
   "source": [
    "# unfilled markers\n",
    "from posixpath import split\n",
    "\n",
    "\n",
    "fig, axs = plt.subplots(ncols=2)\n",
    "fig.suptitle(\"unfilled markers\", fontsize=14)\n",
    "\n",
    "# filter out filled markers and marker settings that do nothing\n",
    "unfilled_markers = []\n",
    "for m, func in Line2D.markers.items():\n",
    "    if func != \"nothing\" and m not in Line2D.filled_markers:\n",
    "        unfilled_markers.append(m)\n",
    "\n",
    "for ax, markers in zip(axs, split_list(unfilled_markers)):\n",
    "    for y, marker in enumerate(markers):\n",
    "        ax.text(-0.5, y, repr(marker), **text_style)\n",
    "        ax.plot([y] * 3, marker=marker, **marker_style)\n",
    "    format_axes(ax)\n",
    "\n",
    "plt.show()"
   ]
  },
  {
   "cell_type": "code",
   "execution_count": null,
   "metadata": {},
   "outputs": [],
   "source": []
  }
 ],
 "metadata": {
  "kernelspec": {
   "display_name": "Python 3.9.6 ('graph-env': venv)",
   "language": "python",
   "name": "python3"
  },
  "language_info": {
   "codemirror_mode": {
    "name": "ipython",
    "version": 3
   },
   "file_extension": ".py",
   "mimetype": "text/x-python",
   "name": "python",
   "nbconvert_exporter": "python",
   "pygments_lexer": "ipython3",
   "version": "3.9.6"
  },
  "orig_nbformat": 4,
  "vscode": {
   "interpreter": {
    "hash": "8a1d382fcd897a4f5be1c26381092307a09c0027141ddd02f76b68eefa3c14a2"
   }
  }
 },
 "nbformat": 4,
 "nbformat_minor": 2
}

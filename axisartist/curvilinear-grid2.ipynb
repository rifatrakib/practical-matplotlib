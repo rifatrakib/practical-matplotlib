{
 "cells": [
  {
   "cell_type": "code",
   "execution_count": 1,
   "metadata": {},
   "outputs": [],
   "source": [
    "import numpy as np\n",
    "import matplotlib.pyplot as plt\n",
    "\n",
    "from mpl_toolkits.axisartist.axislines import Axes\n",
    "from mpl_toolkits.axisartist.grid_finder import ExtremeFinderSimple, MaxNLocator\n",
    "from mpl_toolkits.axisartist.grid_helper_curvelinear import GridHelperCurveLinear"
   ]
  },
  {
   "cell_type": "code",
   "execution_count": 2,
   "metadata": {},
   "outputs": [],
   "source": [
    "def curvelinear_test1(fig):\n",
    "    \"\"\"Grid for custom transform.\"\"\"\n",
    "\n",
    "    def tr(x, y):\n",
    "        return np.sign(x)*abs(x)**.5, y\n",
    "\n",
    "    def inv_tr(x, y):\n",
    "        return np.sign(x)*x**2, y\n",
    "\n",
    "    grid_helper = GridHelperCurveLinear(\n",
    "        (tr, inv_tr),\n",
    "        extreme_finder=ExtremeFinderSimple(20, 20),\n",
    "        # better tick density\n",
    "        grid_locator1=MaxNLocator(nbins=6),\n",
    "        grid_locator2=MaxNLocator(nbins=6),\n",
    "    )\n",
    "\n",
    "    ax1 = fig.add_subplot(axes_class=Axes, grid_helper=grid_helper)\n",
    "    # ax1 will have a ticks and gridlines defined by the given\n",
    "    # transform (+ transData of the Axes). Note that the transform of the Axes\n",
    "    # itself (i.e., transData) is not affected by the given transform.\n",
    "\n",
    "    ax1.imshow(np.arange(25).reshape(5, 5), vmax=50, cmap=plt.cm.gray_r, origin=\"lower\")"
   ]
  },
  {
   "cell_type": "code",
   "execution_count": 3,
   "metadata": {},
   "outputs": [
    {
     "data": {
      "image/png": "[encoded data removed]",
      "text/plain": [
       "<Figure size 700x400 with 1 Axes>"
      ]
     },
     "metadata": {},
     "output_type": "display_data"
    }
   ],
   "source": [
    "fig = plt.figure(figsize=(7, 4))\n",
    "curvelinear_test1(fig)\n",
    "plt.show()"
   ]
  },
  {
   "cell_type": "code",
   "execution_count": null,
   "metadata": {},
   "outputs": [],
   "source": []
  }
 ],
 "metadata": {
  "kernelspec": {
   "display_name": "graph-env",
   "language": "python",
   "name": "python3"
  },
  "language_info": {
   "codemirror_mode": {
    "name": "ipython",
    "version": 3
   },
   "file_extension": ".py",
   "mimetype": "text/x-python",
   "name": "python",
   "nbconvert_exporter": "python",
   "pygments_lexer": "ipython3",
   "version": "3.9.6"
  },
  "orig_nbformat": 4,
  "vscode": {
   "interpreter": {
    "hash": "8a1d382fcd897a4f5be1c26381092307a09c0027141ddd02f76b68eefa3c14a2"
   }
  }
 },
 "nbformat": 4,
 "nbformat_minor": 2
}

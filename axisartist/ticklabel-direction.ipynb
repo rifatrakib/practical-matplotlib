{
 "cells": [
  {
   "cell_type": "code",
   "execution_count": 1,
   "metadata": {},
   "outputs": [],
   "source": [
    "import matplotlib.pyplot as plt\n",
    "import mpl_toolkits.axisartist.axislines as axislines"
   ]
  },
  {
   "cell_type": "code",
   "execution_count": 2,
   "metadata": {},
   "outputs": [],
   "source": [
    "def setup_axes(fig, pos):\n",
    "    ax = fig.add_subplot(pos, axes_class=axislines.Axes)\n",
    "    ax.set_yticks([0.2, 0.8])\n",
    "    ax.set_xticks([0.2, 0.8])\n",
    "    return ax"
   ]
  },
  {
   "cell_type": "code",
   "execution_count": 3,
   "metadata": {},
   "outputs": [
    {
     "data": {
      "image/png": "[encoded data removed]",
      "text/plain": [
       "<Figure size 600x300 with 3 Axes>"
      ]
     },
     "metadata": {},
     "output_type": "display_data"
    }
   ],
   "source": [
    "fig = plt.figure(figsize=(6, 3))\n",
    "fig.subplots_adjust(bottom=0.2)\n",
    "\n",
    "ax = setup_axes(fig, 131)\n",
    "for axis in ax.axis.values():\n",
    "    axis.major_ticks.set_tick_out(True)\n",
    "# or simply do \"ax.axis[:].major_ticks.set_tick_out(True)\"\n",
    "\n",
    "ax = setup_axes(fig, 132)\n",
    "ax.axis[\"left\"].set_axis_direction(\"right\")\n",
    "ax.axis[\"bottom\"].set_axis_direction(\"top\")\n",
    "ax.axis[\"right\"].set_axis_direction(\"left\")\n",
    "ax.axis[\"top\"].set_axis_direction(\"bottom\")\n",
    "\n",
    "ax = setup_axes(fig, 133)\n",
    "ax.axis[\"left\"].set_axis_direction(\"right\")\n",
    "ax.axis[:].major_ticks.set_tick_out(True)\n",
    "\n",
    "ax.axis[\"left\"].label.set_text(\"Long Label Left\")\n",
    "ax.axis[\"bottom\"].label.set_text(\"Label Bottom\")\n",
    "ax.axis[\"right\"].label.set_text(\"Long Label Right\")\n",
    "ax.axis[\"right\"].label.set_visible(True)\n",
    "ax.axis[\"left\"].label.set_pad(0)\n",
    "ax.axis[\"bottom\"].label.set_pad(10)\n",
    "\n",
    "plt.show()"
   ]
  },
  {
   "cell_type": "code",
   "execution_count": null,
   "metadata": {},
   "outputs": [],
   "source": []
  }
 ],
 "metadata": {
  "kernelspec": {
   "display_name": "graph-env",
   "language": "python",
   "name": "python3"
  },
  "language_info": {
   "codemirror_mode": {
    "name": "ipython",
    "version": 3
   },
   "file_extension": ".py",
   "mimetype": "text/x-python",
   "name": "python",
   "nbconvert_exporter": "python",
   "pygments_lexer": "ipython3",
   "version": "3.9.6"
  },
  "orig_nbformat": 4,
  "vscode": {
   "interpreter": {
    "hash": "8a1d382fcd897a4f5be1c26381092307a09c0027141ddd02f76b68eefa3c14a2"
   }
  }
 },
 "nbformat": 4,
 "nbformat_minor": 2
}

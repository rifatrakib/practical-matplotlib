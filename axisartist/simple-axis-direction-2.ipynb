{
 "cells": [
  {
   "cell_type": "code",
   "execution_count": 1,
   "metadata": {},
   "outputs": [],
   "source": [
    "import matplotlib.pyplot as plt\n",
    "import mpl_toolkits.axisartist as axisartist"
   ]
  },
  {
   "cell_type": "code",
   "execution_count": 2,
   "metadata": {},
   "outputs": [],
   "source": [
    "def setup_axes(fig, pos):\n",
    "    ax = fig.add_subplot(pos, axes_class=axisartist.Axes)\n",
    "    ax.set_yticks([0.2, 0.8])\n",
    "    ax.set_xticks([0.2, 0.8])\n",
    "    return ax"
   ]
  },
  {
   "cell_type": "code",
   "execution_count": 3,
   "metadata": {},
   "outputs": [
    {
     "data": {
      "image/png": "[encoded data removed]",
      "text/plain": [
       "<Figure size 500x200 with 2 Axes>"
      ]
     },
     "metadata": {},
     "output_type": "display_data"
    }
   ],
   "source": [
    "fig = plt.figure(figsize=(5, 2))\n",
    "fig.subplots_adjust(wspace=0.4, bottom=0.3)\n",
    "\n",
    "ax1 = setup_axes(fig, 121)\n",
    "ax1.set_xlabel(\"X-label\")\n",
    "ax1.set_ylabel(\"Y-label\")\n",
    "\n",
    "ax1.axis[:].invert_ticklabel_direction()\n",
    "\n",
    "ax2 = setup_axes(fig, 122)\n",
    "ax2.set_xlabel(\"X-label\")\n",
    "ax2.set_ylabel(\"Y-label\")\n",
    "\n",
    "ax2.axis[:].major_ticks.set_tick_out(True)\n",
    "\n",
    "plt.show()"
   ]
  },
  {
   "cell_type": "code",
   "execution_count": null,
   "metadata": {},
   "outputs": [],
   "source": []
  }
 ],
 "metadata": {
  "kernelspec": {
   "display_name": "graph-env",
   "language": "python",
   "name": "python3"
  },
  "language_info": {
   "codemirror_mode": {
    "name": "ipython",
    "version": 3
   },
   "file_extension": ".py",
   "mimetype": "text/x-python",
   "name": "python",
   "nbconvert_exporter": "python",
   "pygments_lexer": "ipython3",
   "version": "3.9.6"
  },
  "orig_nbformat": 4,
  "vscode": {
   "interpreter": {
    "hash": "8a1d382fcd897a4f5be1c26381092307a09c0027141ddd02f76b68eefa3c14a2"
   }
  }
 },
 "nbformat": 4,
 "nbformat_minor": 2
}

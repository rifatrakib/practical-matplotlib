{
 "cells": [
  {
   "cell_type": "code",
   "execution_count": null,
   "metadata": {},
   "outputs": [],
   "source": [
    "import numpy as np\n",
    "import matplotlib.pyplot as plt\n",
    "from matplotlib.text import TextPath\n",
    "from matplotlib.image import BboxImage\n",
    "from matplotlib.cbook import get_sample_data\n",
    "from matplotlib.patches import PathPatch, Shadow\n",
    "from matplotlib.transforms import IdentityTransform\n",
    "from matplotlib.offsetbox import AnnotationBbox, AnchoredOffsetbox, AuxTransformBox"
   ]
  },
  {
   "cell_type": "code",
   "execution_count": null,
   "metadata": {},
   "outputs": [],
   "source": [
    "class PathClippedImagePatch(PathPatch):\n",
    "    \"\"\"\n",
    "    The given image is used to draw the face of the patch. Internally,\n",
    "    it uses BboxImage whose clippath set to the path of the patch.\n",
    "    \n",
    "    FIXME : The result is currently dpi dependent.\n",
    "    \"\"\"\n",
    "    def __init__(self, path, bbox_image, **kwargs):\n",
    "        super().__init__(path, **kwargs)\n",
    "        self.bbox_image = BboxImage(self.get_window_extent, norm=None, origin=None)\n",
    "        self.bbox_image.set_data(bbox_image)\n",
    "    \n",
    "    def set_facecolor(self, color):\n",
    "        \"\"\"Simply ignore facecolor.\"\"\"\n",
    "        super().set_facecolor(\"none\")\n",
    "    \n",
    "    def draw(self, renderer=None):\n",
    "        # the clip path must be updated every draw\n",
    "        self.bbox_image.set_clip_path(self._path, self.get_transform())\n",
    "        self.bbox_image.draw(renderer)\n",
    "        super().draw(renderer)"
   ]
  },
  {
   "cell_type": "code",
   "execution_count": null,
   "metadata": {},
   "outputs": [],
   "source": [
    "arr1 = plt.imread(get_sample_data(\"grace_hopper.jpg\"))\n",
    "text_path = TextPath((0, 0), \"!?\", size=150)\n",
    "p = PathClippedImagePatch(text_path, arr1, ec=\"k\", transform=IdentityTransform())\n",
    "\n",
    "# make offset box\n",
    "offsetbox = AuxTransformBox(IdentityTransform())\n",
    "offsetbox.add_artist(p)\n",
    "\n",
    "# make anchored offset box\n",
    "ao = AnchoredOffsetbox(loc=\"upper left\", child=offsetbox, frameon=True, borderpad=0.2)\n",
    "texts1 = [\n",
    "    (False, 0.25, r\"textpath supports mathtext\"),\n",
    "    (True, 0.05, r\"textpath supports \\TeX\"),\n",
    "]\n",
    "\n",
    "arr2 = np.arange(256).reshape(1, 256) / 256\n",
    "texts2 = [\n",
    "    (False, 0.25, r\"$\\left[\\sum_{n=1}^\\infty\\frac{-e^{i\\pi}}{2^n}\\right]$!\"),\n",
    "    (True, 0.75, r\"$\\displaystyle\\left[\\sum_{n=1}^\\infty\\frac{-e^{i\\pi}}{2^n}\\right]$!\"),\n",
    "]"
   ]
  },
  {
   "cell_type": "code",
   "execution_count": null,
   "metadata": {},
   "outputs": [],
   "source": [
    "fig, (ax1, ax2) = plt.subplots(2)\n",
    "\n",
    "ax1.add_artist(ao)\n",
    "for usetex, ypos, string in texts1:\n",
    "    text_path = TextPath((0, 0), string, size=20, usetex=usetex)\n",
    "    p1 = PathPatch(text_path, ec=\"w\", lw=3, fc=\"w\", alpha=0.9, transform=IdentityTransform())\n",
    "    p2 = PathPatch(text_path, ec=\"none\", fc=\"k\", transform=IdentityTransform())\n",
    "    \n",
    "    offsetbox2 = AuxTransformBox(IdentityTransform())\n",
    "    offsetbox2.add_artist(p1)\n",
    "    offsetbox2.add_artist(p2)\n",
    "    \n",
    "    ab = AnnotationBbox(\n",
    "        offsetbox2, (0.95, ypos), xycoords=\"axes fraction\",\n",
    "        boxcoords=\"offset points\", box_alignment=(1, 0), frameon=False,\n",
    "    )\n",
    "    ax1.add_artist(ab)\n",
    "\n",
    "ax1.imshow(\n",
    "    [[0, 1, 2], [1, 2, 3]], cmap=plt.cm.gist_gray_r,\n",
    "    interpolation=\"bilinear\", aspect=\"auto\",\n",
    ")\n",
    "\n",
    "for usetex, xpos, string in texts2:\n",
    "    text_path = TextPath((0, 0), string, size=40, usetex=usetex)\n",
    "    text_patch = PathClippedImagePatch(text_path, arr2, ec=\"none\", transform=IdentityTransform())\n",
    "    shadow1 = Shadow(text_patch, 1, -1, fc=\"none\", ec=\"0.6\", lw=3)\n",
    "    shadow2 = Shadow(text_patch, 1, -1, fc=\"0.3\", ec=\"none\")\n",
    "    \n",
    "    # make offset box\n",
    "    offsetbox = AuxTransformBox(IdentityTransform())\n",
    "    offsetbox.add_artist(shadow1)\n",
    "    offsetbox.add_artist(shadow2)\n",
    "    offsetbox.add_artist(text_patch)\n",
    "    \n",
    "    # place the anchored offset box using AnnotationBbox\n",
    "    ab = AnnotationBbox(\n",
    "        offsetbox, (xpos, 0.5), xycoords=\"data\",\n",
    "        boxcoords=\"offset points\", box_alignment=(0.5, 0.5),\n",
    "    )\n",
    "    ax2.add_artist(ab)\n",
    "\n",
    "ax2.set_xlim(0, 1)\n",
    "ax2.set_ylim(0, 1)\n",
    "\n",
    "plt.show()"
   ]
  },
  {
   "cell_type": "code",
   "execution_count": null,
   "metadata": {},
   "outputs": [],
   "source": []
  }
 ],
 "metadata": {
  "kernelspec": {
   "display_name": "Python 3.9.6 ('graph-env': venv)",
   "language": "python",
   "name": "python3"
  },
  "language_info": {
   "codemirror_mode": {
    "name": "ipython",
    "version": 3
   },
   "file_extension": ".py",
   "mimetype": "text/x-python",
   "name": "python",
   "nbconvert_exporter": "python",
   "pygments_lexer": "ipython3",
   "version": "3.9.6"
  },
  "orig_nbformat": 4,
  "vscode": {
   "interpreter": {
    "hash": "8a1d382fcd897a4f5be1c26381092307a09c0027141ddd02f76b68eefa3c14a2"
   }
  }
 },
 "nbformat": 4,
 "nbformat_minor": 2
}

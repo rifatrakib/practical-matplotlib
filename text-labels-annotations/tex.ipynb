{
 "cells": [
  {
   "cell_type": "code",
   "execution_count": 1,
   "metadata": {},
   "outputs": [],
   "source": [
    "import numpy as np\n",
    "import matplotlib.pyplot as plt"
   ]
  },
  {
   "cell_type": "code",
   "execution_count": 2,
   "metadata": {},
   "outputs": [],
   "source": [
    "plt.rcParams[\"text.usetex\"] = True"
   ]
  },
  {
   "cell_type": "code",
   "execution_count": 3,
   "metadata": {},
   "outputs": [],
   "source": [
    "t = np.linspace(0.0, 1.0, 100)\n",
    "s = np.cos(4 * np.pi * t) + 2"
   ]
  },
  {
   "cell_type": "code",
   "execution_count": null,
   "metadata": {},
   "outputs": [],
   "source": [
    "fig, ax = plt.subplots(figsize=(6, 4), tight_layout=True)\n",
    "ax.plot(t, s)\n",
    "\n",
    "ax.set_xlabel(r\"\\textbf{time (s)}\")\n",
    "ax.set_ylabel(\"\\\\textit{Velocity (\\N{DEGREE SIGN}/sec)}\", fontsize=16)\n",
    "ax.set_title(r\"\\TeX\\ is Number $\\displaystyle\\sum_{n=1}^\\infty\"\n",
    "    r\"\\frac{-e^{i\\pi}}{2^n}$!\", fontsize=16, color=\"r\")\n",
    "\n",
    "plt.show()"
   ]
  },
  {
   "cell_type": "code",
   "execution_count": 5,
   "metadata": {},
   "outputs": [],
   "source": [
    "# interface tracking profiles\n",
    "N = 500\n",
    "delta = 0.6\n",
    "X = np.linspace(-1, 1, N)"
   ]
  },
  {
   "cell_type": "code",
   "execution_count": null,
   "metadata": {},
   "outputs": [],
   "source": [
    "fig, ax = plt.subplots()\n",
    "\n",
    "ax.plot(X, (1 - np.tanh(4 * X / delta)) / 2,    # phase field tanh profiles\n",
    "        X, (1.4 + np.tanh(4 * X / delta)) / 4, \"C2\",  # composition profile\n",
    "        X, X < 0, \"k--\")                        # sharp interface\n",
    "\n",
    "# legend\n",
    "ax.legend((\"phase field\", \"level set\", \"sharp interface\"),\n",
    "        shadow=True, loc=(0.01, 0.48), handlelength=1.5, fontsize=16)\n",
    "\n",
    "# the arrow\n",
    "ax.annotate(\"\", xy=(-delta / 2., 0.1), xytext=(delta / 2., 0.1),\n",
    "        arrowprops=dict(arrowstyle=\"<->\", connectionstyle=\"arc3\"))\n",
    "ax.text(0, 0.1, r\"$\\delta$\",\n",
    "        color=\"black\", fontsize=24,\n",
    "        horizontalalignment=\"center\", verticalalignment=\"center\",\n",
    "        bbox=dict(boxstyle=\"round\", fc=\"white\", ec=\"black\", pad=0.2))\n",
    "\n",
    "# Use tex in labels\n",
    "ax.set_xticks([-1, 0, 1])\n",
    "ax.set_xticklabels([\"$-1$\", r\"$\\pm 0$\", \"$+1$\"], color=\"k\", size=20)\n",
    "\n",
    "# Left Y-axis labels, combine math mode and text mode\n",
    "ax.set_ylabel(r\"\\bf{phase field} $\\phi$\", color=\"C0\", fontsize=20)\n",
    "ax.set_yticks([0, 0.5, 1])\n",
    "ax.set_yticklabels([r\"\\bf{0}\", r\"\\bf{.5}\", r\"\\bf{1}\"], color=\"k\", size=20)\n",
    "\n",
    "# Right Y-axis labels\n",
    "ax.text(1.02, 0.5, r\"\\bf{level set} $\\phi$\",\n",
    "        color=\"C2\", fontsize=20, rotation=90,\n",
    "        horizontalalignment=\"left\", verticalalignment=\"center\",\n",
    "        clip_on=False, transform=ax.transAxes)\n",
    "\n",
    "# Use multiline environment inside a `text`.\n",
    "# level set equations\n",
    "eq1 = (r\"\\begin{eqnarray*}\"\n",
    "        r\"|\\nabla\\phi| &=& 1,\\\\\"\n",
    "        r\"\\frac{\\partial \\phi}{\\partial t} + U|\\nabla \\phi| &=& 0 \"\n",
    "        r\"\\end{eqnarray*}\")\n",
    "ax.text(1, 0.9, eq1, color=\"C2\", fontsize=18,\n",
    "        horizontalalignment=\"right\", verticalalignment=\"top\")\n",
    "\n",
    "# phase field equations\n",
    "eq2 = (r\"\\begin{eqnarray*}\"\n",
    "        r\"\\mathcal{F} &=& \\int f\\left( \\phi, c \\right) dV, \\\\ \"\n",
    "        r\"\\frac{ \\partial \\phi } { \\partial t } &=& -M_{ \\phi } \"\n",
    "        r\"\\frac{ \\delta \\mathcal{F} } { \\delta \\phi }\"\n",
    "        r\"\\end{eqnarray*}\")\n",
    "ax.text(0.18, 0.18, eq2, color=\"C0\", fontsize=16)\n",
    "\n",
    "ax.text(-1, .30, r\"gamma: $\\gamma$\", color=\"r\", fontsize=20)\n",
    "ax.text(-1, .18, r\"Omega: $\\Omega$\", color=\"b\", fontsize=20)\n",
    "\n",
    "plt.show()"
   ]
  },
  {
   "cell_type": "code",
   "execution_count": null,
   "metadata": {},
   "outputs": [],
   "source": []
  }
 ],
 "metadata": {
  "kernelspec": {
   "display_name": "Python 3.9.6 ('graph-env': venv)",
   "language": "python",
   "name": "python3"
  },
  "language_info": {
   "codemirror_mode": {
    "name": "ipython",
    "version": 3
   },
   "file_extension": ".py",
   "mimetype": "text/x-python",
   "name": "python",
   "nbconvert_exporter": "python",
   "pygments_lexer": "ipython3",
   "version": "3.9.6"
  },
  "orig_nbformat": 4,
  "vscode": {
   "interpreter": {
    "hash": "8a1d382fcd897a4f5be1c26381092307a09c0027141ddd02f76b68eefa3c14a2"
   }
  }
 },
 "nbformat": 4,
 "nbformat_minor": 2
}

{
 "cells": [
  {
   "cell_type": "code",
   "execution_count": null,
   "metadata": {},
   "outputs": [],
   "source": [
    "import matplotlib.pyplot as plt"
   ]
  },
  {
   "cell_type": "code",
   "execution_count": null,
   "metadata": {},
   "outputs": [],
   "source": [
    "plt.rcParams.update({\"mathtext.fontset\": \"cm\", \"mathtext.rm\": \"serif\"})"
   ]
  },
  {
   "cell_type": "code",
   "execution_count": null,
   "metadata": {},
   "outputs": [],
   "source": [
    "axs = plt.figure(figsize=(2 * 3, 6.5)).subplots(1, 2)\n",
    "for ax, usetex in zip(axs, [False, True]):\n",
    "    ax.axvline(0, color=\"r\")\n",
    "    test_strings = [\"lg\", r\"$\\frac{1}{2}\\pi$\", r\"$p^{3^A}$\", r\"$p_{3_2}$\"]\n",
    "    \n",
    "    for i, s in enumerate(test_strings):\n",
    "        ax.axhline(i, color=\"r\")\n",
    "        ax.text(0., 3 - i, s,\n",
    "                usetex=usetex,\n",
    "                verticalalignment=\"baseline\",\n",
    "                size=50,\n",
    "                bbox=dict(pad=0, ec=\"k\", fc=\"none\"))\n",
    "    ax.set(\n",
    "        xlim=(-0.1, 1.1), ylim=(-.8, 3.9),\n",
    "        xticks=[], yticks=[], title=f\"usetex={usetex}\\n\"\n",
    "    )\n",
    "\n",
    "plt.show()"
   ]
  },
  {
   "cell_type": "code",
   "execution_count": null,
   "metadata": {},
   "outputs": [],
   "source": []
  }
 ],
 "metadata": {
  "kernelspec": {
   "display_name": "Python 3.9.6 ('graph-env': venv)",
   "language": "python",
   "name": "python3"
  },
  "language_info": {
   "codemirror_mode": {
    "name": "ipython",
    "version": 3
   },
   "file_extension": ".py",
   "mimetype": "text/x-python",
   "name": "python",
   "nbconvert_exporter": "python",
   "pygments_lexer": "ipython3",
   "version": "3.9.6"
  },
  "orig_nbformat": 4,
  "vscode": {
   "interpreter": {
    "hash": "8a1d382fcd897a4f5be1c26381092307a09c0027141ddd02f76b68eefa3c14a2"
   }
  }
 },
 "nbformat": 4,
 "nbformat_minor": 2
}

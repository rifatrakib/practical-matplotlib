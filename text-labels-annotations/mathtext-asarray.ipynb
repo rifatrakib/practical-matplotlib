{
 "cells": [
  {
   "cell_type": "code",
   "execution_count": 1,
   "metadata": {},
   "outputs": [],
   "source": [
    "from io import BytesIO\n",
    "\n",
    "import matplotlib.pyplot as plt\n",
    "from matplotlib.figure import Figure\n",
    "from matplotlib.transforms import IdentityTransform"
   ]
  },
  {
   "cell_type": "code",
   "execution_count": 2,
   "metadata": {},
   "outputs": [],
   "source": [
    "def text_to_rgba(s, *, dpi, **kwargs):\n",
    "    # To convert a text string to an image, we can:\n",
    "    # - draw it on an empty and transparent figure;\n",
    "    # - save the figure to a temporary buffer using ``bbox_inches=\"tight\",\n",
    "    #   pad_inches=0`` which will pick the correct area to save;\n",
    "    # - load the buffer using ``plt.imread``.\n",
    "    #\n",
    "    # (If desired, one can also directly save the image to the filesystem.)\n",
    "    fig = Figure(facecolor=\"none\")\n",
    "    fig.text(0, 0, s, **kwargs)\n",
    "    with BytesIO() as buffer:\n",
    "        fig.savefig(buffer, dpi=dpi, format=\"png\", bbox_inches=\"tight\", pad_inches=0)\n",
    "        buffer.seek(0)\n",
    "        rgba = plt.imread(buffer)\n",
    "    \n",
    "    return rgba"
   ]
  },
  {
   "cell_type": "code",
   "execution_count": 3,
   "metadata": {},
   "outputs": [
    {
     "data": {
      "text/plain": [
       "<Figure size 640x480 with 0 Axes>"
      ]
     },
     "metadata": {},
     "output_type": "display_data"
    }
   ],
   "source": [
    "fig = plt.figure()\n",
    "\n",
    "rgba1 = text_to_rgba(r\"IQ: $\\sigma_i=15$\", color=\"blue\", fontsize=20, dpi=200)\n",
    "rgba2 = text_to_rgba(r\"some other string\", color=\"red\", fontsize=20, dpi=200)\n",
    "\n",
    "# can then draw such text images to a Figure using `.Figure.figimage`\n",
    "fig.figimage(rgba1, 100, 50)\n",
    "fig.figimage(rgba2, 100, 150)\n",
    "\n",
    "# One can also directly draw texts to a figure with positioning in pixel coordinates\n",
    "# by using `.Figure.text` together with `.transforms.IdentityTransform`\n",
    "fig.text(100, 250, r\"IQ: $\\sigma_i=15$\", color=\"blue\", fontsize=20, transform=IdentityTransform())\n",
    "fig.text(100, 350, r\"some other string\", color=\"red\", fontsize=20, transform=IdentityTransform())\n",
    "\n",
    "plt.show()"
   ]
  },
  {
   "cell_type": "code",
   "execution_count": null,
   "metadata": {},
   "outputs": [],
   "source": []
  }
 ],
 "metadata": {
  "kernelspec": {
   "display_name": "Python 3.9.6 ('graph-env': venv)",
   "language": "python",
   "name": "python3"
  },
  "language_info": {
   "codemirror_mode": {
    "name": "ipython",
    "version": 3
   },
   "file_extension": ".py",
   "mimetype": "text/x-python",
   "name": "python",
   "nbconvert_exporter": "python",
   "pygments_lexer": "ipython3",
   "version": "3.9.6"
  },
  "orig_nbformat": 4,
  "vscode": {
   "interpreter": {
    "hash": "8a1d382fcd897a4f5be1c26381092307a09c0027141ddd02f76b68eefa3c14a2"
   }
  }
 },
 "nbformat": 4,
 "nbformat_minor": 2
}

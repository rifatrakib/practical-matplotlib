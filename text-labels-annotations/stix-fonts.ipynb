{
 "cells": [
  {
   "cell_type": "code",
   "execution_count": 1,
   "metadata": {},
   "outputs": [],
   "source": [
    "import matplotlib.pyplot as plt"
   ]
  },
  {
   "cell_type": "code",
   "execution_count": 2,
   "metadata": {},
   "outputs": [],
   "source": [
    "circle123 = \"\\N{CIRCLED DIGIT ONE}\\N{CIRCLED DIGIT TWO}\\N{CIRCLED DIGIT THREE}\"\n",
    "\n",
    "tests = [\n",
    "    r'$%s\\;\\mathrm{%s}\\;\\mathbf{%s}$' % ((circle123,) * 3),\n",
    "    r'$\\mathsf{Sans \\Omega}\\;\\mathrm{\\mathsf{Sans \\Omega}}\\;'\n",
    "    r'\\mathbf{\\mathsf{Sans \\Omega}}$',\n",
    "    r'$\\mathtt{Monospace}$',\n",
    "    r'$\\mathcal{CALLIGRAPHIC}$',\n",
    "    r'$\\mathbb{Blackboard\\;\\pi}$',\n",
    "    r'$\\mathrm{\\mathbb{Blackboard\\;\\pi}}$',\n",
    "    r'$\\mathbf{\\mathbb{Blackboard\\;\\pi}}$',\n",
    "    r'$\\mathfrak{Fraktur}\\;\\mathbf{\\mathfrak{Fraktur}}$',\n",
    "    r'$\\mathscr{Script}$',\n",
    "]"
   ]
  },
  {
   "cell_type": "code",
   "execution_count": 3,
   "metadata": {},
   "outputs": [
    {
     "data": {
      "text/plain": [
       "<Figure size 800x1100 with 0 Axes>"
      ]
     },
     "metadata": {},
     "output_type": "display_data"
    }
   ],
   "source": [
    "fig = plt.figure(figsize=(8, len(tests) + 2))\n",
    "for i, s in enumerate(tests[::-1]):\n",
    "    fig.text(0, (i + 0.5) / len(tests), s, fontsize=32)\n",
    "\n",
    "plt.show()"
   ]
  },
  {
   "cell_type": "code",
   "execution_count": null,
   "metadata": {},
   "outputs": [],
   "source": []
  }
 ],
 "metadata": {
  "kernelspec": {
   "display_name": "Python 3.9.6 ('graph-env': venv)",
   "language": "python",
   "name": "python3"
  },
  "language_info": {
   "codemirror_mode": {
    "name": "ipython",
    "version": 3
   },
   "file_extension": ".py",
   "mimetype": "text/x-python",
   "name": "python",
   "nbconvert_exporter": "python",
   "pygments_lexer": "ipython3",
   "version": "3.9.6"
  },
  "orig_nbformat": 4,
  "vscode": {
   "interpreter": {
    "hash": "8a1d382fcd897a4f5be1c26381092307a09c0027141ddd02f76b68eefa3c14a2"
   }
  }
 },
 "nbformat": 4,
 "nbformat_minor": 2
}

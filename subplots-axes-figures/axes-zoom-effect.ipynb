{
 "cells": [
  {
   "cell_type": "code",
   "execution_count": 1,
   "metadata": {},
   "outputs": [],
   "source": [
    "import matplotlib.pyplot as plt\n",
    "from matplotlib.transforms import Bbox, TransformedBbox, blended_transform_factory\n",
    "from mpl_toolkits.axes_grid1.inset_locator import (\n",
    "    BboxPatch, BboxConnector, BboxConnectorPatch\n",
    ")"
   ]
  },
  {
   "cell_type": "code",
   "execution_count": 2,
   "metadata": {},
   "outputs": [],
   "source": [
    "def connect_bbox(bbox1, bbox2, loc1a, loc2a, loc1b, loc2b, prop_lines, prop_patches=None):\n",
    "    if prop_patches is None:\n",
    "        prop_patches = {\n",
    "            **prop_lines,\n",
    "            \"alpha\": prop_lines.get(\"alpha\", 1) * 0.2,\n",
    "            \"clip_on\": False,\n",
    "        }\n",
    "    \n",
    "    c1 = BboxConnector(bbox1, bbox2, loc1=loc1a, loc2=loc2a, clip_on=False, **prop_lines)\n",
    "    c2 = BboxConnector(bbox1, bbox2, loc1=loc1b, loc2=loc2b, clip_on=False, **prop_lines)\n",
    "    \n",
    "    bbox_patch_1 = BboxPatch(bbox1, **prop_patches)\n",
    "    bbox_patch_2 = BboxPatch(bbox2, **prop_patches)\n",
    "    \n",
    "    p = BboxConnectorPatch(\n",
    "        bbox1, bbox2, loc1a=loc1a, loc2a=loc2a,\n",
    "        loc1b=loc1b, loc2b=loc2b, clip_on=False, **prop_patches,\n",
    "    )\n",
    "    \n",
    "    return c1, c2, bbox_patch_1, bbox_patch_2, p"
   ]
  },
  {
   "cell_type": "code",
   "execution_count": 3,
   "metadata": {},
   "outputs": [],
   "source": [
    "def zoom_effect_1(ax1, ax2, xmin, xmax, **kwargs):\n",
    "    \"\"\"\n",
    "    Connect *ax1* and *ax2*. The *xmin*-to-*xmax* range in both axes will\n",
    "    be marked.\n",
    "    \n",
    "    Parameters\n",
    "    ----------\n",
    "    ax1\n",
    "        The main axes.\n",
    "    ax2\n",
    "        The zoomed axes.\n",
    "    xmin, xmax\n",
    "        The limits of the colored area in both plot axes.\n",
    "    **kwargs\n",
    "        Arguments passed to the patch constructor.\n",
    "    \"\"\"\n",
    "    bbox = Bbox.from_extents(xmin, 0, xmax, 1)\n",
    "    \n",
    "    mybbox1 = TransformedBbox(bbox, ax1.get_xaxis_transform())\n",
    "    mybbox2 = TransformedBbox(bbox, ax2.get_xaxis_transform())\n",
    "    \n",
    "    prop_patches = {**kwargs, \"ec\": \"none\", \"alpha\": 0.2}\n",
    "    \n",
    "    c1, c2, bbox_patch_1, bbox_patch_2, p = connect_bbox(\n",
    "        mybbox1, mybbox2, loc1a=3, loc2a=2, loc1b=4, loc2b=1,\n",
    "        prop_lines=kwargs, prop_patches=prop_patches,\n",
    "    )\n",
    "    \n",
    "    ax1.add_patch(bbox_patch_1)\n",
    "    ax2.add_patch(bbox_patch_2)\n",
    "    ax2.add_patch(c1)\n",
    "    ax2.add_patch(c2)\n",
    "    ax2.add_patch(p)\n",
    "    \n",
    "    return c1, c2, bbox_patch_1, bbox_patch_2, p"
   ]
  },
  {
   "cell_type": "code",
   "execution_count": 4,
   "metadata": {},
   "outputs": [],
   "source": [
    "def zoom_effect_2(ax1, ax2, **kwargs):\n",
    "    \"\"\"\n",
    "    ax1 : the main axes\n",
    "    ax1 : the zoomed axes\n",
    "    \n",
    "    Similar to zoom_effect_1.  The xmin & xmax will be taken from the\n",
    "    ax1.viewLim.\n",
    "    \"\"\"\n",
    "    tt = ax1.transScale + (ax1.transLimits + ax2.transAxes)\n",
    "    trans = blended_transform_factory(ax2.transData, tt)\n",
    "    \n",
    "    mybbox1 = ax1.bbox\n",
    "    mybbox2 = TransformedBbox(ax1.viewLim, trans)\n",
    "    prop_patches = {**kwargs, \"ec\": \"none\", \"alpha\": 0.2}\n",
    "    \n",
    "    c1, c2, bbox_patch_1, bbox_patch_2, p = connect_bbox(\n",
    "        mybbox1, mybbox2, loc1a=3, loc2a=2, loc1b=4, loc2b=1,\n",
    "        prop_lines=kwargs, prop_patches=prop_patches,\n",
    "    )\n",
    "    \n",
    "    ax1.add_patch(bbox_patch_1)\n",
    "    ax2.add_patch(bbox_patch_2)\n",
    "    ax2.add_patch(c1)\n",
    "    ax2.add_patch(c2)\n",
    "    ax2.add_patch(p)\n",
    "    \n",
    "    return c1, c2, bbox_patch_1, bbox_patch_2, p"
   ]
  },
  {
   "cell_type": "code",
   "execution_count": 5,
   "metadata": {},
   "outputs": [
    {
     "data": {
      "image/png": "[encoded data removed]",
      "text/plain": [
       "<Figure size 640x480 with 3 Axes>"
      ]
     },
     "metadata": {},
     "output_type": "display_data"
    }
   ],
   "source": [
    "axs = plt.figure().subplot_mosaic([\n",
    "    [\"zoom1\", \"zoom2\"],\n",
    "    [\"main\", \"main\"],\n",
    "])\n",
    "\n",
    "axs[\"main\"].set(xlim=(0, 5))\n",
    "zoom_effect_1(axs[\"zoom1\"], axs[\"main\"], 0.2, 0.8)\n",
    "axs[\"zoom2\"].set(xlim=(2, 3))\n",
    "zoom_effect_2(axs[\"zoom2\"], axs[\"main\"])\n",
    "\n",
    "plt.show()"
   ]
  },
  {
   "cell_type": "code",
   "execution_count": null,
   "metadata": {},
   "outputs": [],
   "source": []
  }
 ],
 "metadata": {
  "kernelspec": {
   "display_name": "Python 3.9.6 ('graph-env': venv)",
   "language": "python",
   "name": "python3"
  },
  "language_info": {
   "codemirror_mode": {
    "name": "ipython",
    "version": 3
   },
   "file_extension": ".py",
   "mimetype": "text/x-python",
   "name": "python",
   "nbconvert_exporter": "python",
   "pygments_lexer": "ipython3",
   "version": "3.9.6"
  },
  "orig_nbformat": 4,
  "vscode": {
   "interpreter": {
    "hash": "8a1d382fcd897a4f5be1c26381092307a09c0027141ddd02f76b68eefa3c14a2"
   }
  }
 },
 "nbformat": 4,
 "nbformat_minor": 2
}

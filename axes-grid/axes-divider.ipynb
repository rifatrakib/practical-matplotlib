{
 "cells": [
  {
   "cell_type": "code",
   "execution_count": 1,
   "metadata": {},
   "outputs": [],
   "source": [
    "from matplotlib import cbook\n",
    "import matplotlib.pyplot as plt\n",
    "from mpl_toolkits.axes_grid1.mpl_axes import Axes\n",
    "from mpl_toolkits.axes_grid1 import make_axes_locatable\n",
    "from mpl_toolkits.axes_grid1 import SubplotDivider, Size"
   ]
  },
  {
   "cell_type": "code",
   "execution_count": 2,
   "metadata": {},
   "outputs": [],
   "source": [
    "def get_demo_image():\n",
    "    z = cbook.get_sample_data(\"axes_grid/bivariate_normal.npy\", np_load=True)\n",
    "    # z is a numpy array of 15x15\n",
    "    return z, (-3, 4, -4, 3)"
   ]
  },
  {
   "cell_type": "code",
   "execution_count": 3,
   "metadata": {},
   "outputs": [],
   "source": [
    "def demo_simple_image(ax):\n",
    "    Z, extent = get_demo_image()\n",
    "    im = ax.imshow(Z, extent=extent)\n",
    "    cb = plt.colorbar(im)\n",
    "    cb.ax.yaxis.set_tick_params(labelright=False)"
   ]
  },
  {
   "cell_type": "code",
   "execution_count": 4,
   "metadata": {},
   "outputs": [],
   "source": [
    "def demo_locatable_axes_hard(fig):\n",
    "    divider = SubplotDivider(fig, 2, 2, 2, aspect=True)\n",
    "    # axes for image\n",
    "    ax = fig.add_axes(divider.get_position(), axes_class=Axes)\n",
    "    # axes for colorbar\n",
    "    # (the label prevents Axes.add_axes from incorrectly believing that the two\n",
    "    # axes are the same)\n",
    "    ax_cb = fig.add_axes(divider.get_position(), axes_class=Axes, label=\"cb\")\n",
    "    h = [\n",
    "        Size.AxesX(ax),  # main axes\n",
    "        Size.Fixed(0.05),  # padding, 0.1 inch\n",
    "        Size.Fixed(0.2),  # colorbar, 0.3 inch\n",
    "    ]\n",
    "    \n",
    "    v = [Size.AxesY(ax)]\n",
    "    divider.set_horizontal(h)\n",
    "    divider.set_vertical(v)\n",
    "    \n",
    "    ax.set_axes_locator(divider.new_locator(nx=0, ny=0))\n",
    "    ax_cb.set_axes_locator(divider.new_locator(nx=2, ny=0))\n",
    "    ax_cb.axis[\"left\"].toggle(all=False)\n",
    "    ax_cb.axis[\"right\"].toggle(ticks=True)\n",
    "    \n",
    "    Z, extent = get_demo_image()\n",
    "    im = ax.imshow(Z, extent=extent)\n",
    "    plt.colorbar(im, cax=ax_cb)\n",
    "    ax_cb.yaxis.set_tick_params(labelright=False)"
   ]
  },
  {
   "cell_type": "code",
   "execution_count": 5,
   "metadata": {},
   "outputs": [],
   "source": [
    "def demo_locatable_axes_easy(ax):\n",
    "    divider = make_axes_locatable(ax)\n",
    "    ax_cb = divider.append_axes(\"right\", size=\"5%\", pad=0.05)\n",
    "    fig = ax.get_figure()\n",
    "    fig.add_axes(ax_cb)\n",
    "    \n",
    "    Z, extent = get_demo_image()\n",
    "    im = ax.imshow(Z, extent=extent)\n",
    "    plt.colorbar(im, cax=ax_cb)\n",
    "    ax_cb.yaxis.tick_right()\n",
    "    ax_cb.yaxis.set_tick_params(labelright=False)"
   ]
  },
  {
   "cell_type": "code",
   "execution_count": 6,
   "metadata": {},
   "outputs": [],
   "source": [
    "def demo_images_side_by_side(ax):\n",
    "    divider = make_axes_locatable(ax)\n",
    "    Z, extent = get_demo_image()\n",
    "    ax2 = divider.append_axes(\"right\", size=\"100%\", pad=0.05)\n",
    "    \n",
    "    fig1 = ax.get_figure()\n",
    "    fig1.add_axes(ax2)\n",
    "    ax.imshow(Z, extent=extent)\n",
    "    ax2.imshow(Z, extent=extent)\n",
    "    ax2.yaxis.set_tick_params(labelleft=False)"
   ]
  },
  {
   "cell_type": "code",
   "execution_count": 7,
   "metadata": {},
   "outputs": [
    {
     "data": {
      "image/png": "[encoded data removed]",
      "text/plain": [
       "<Figure size 600x600 with 8 Axes>"
      ]
     },
     "metadata": {},
     "output_type": "display_data"
    }
   ],
   "source": [
    "fig = plt.figure(figsize=(6, 6))\n",
    "\n",
    "# PLOT 1\n",
    "# simple image & colorbar\n",
    "ax = fig.add_subplot(2, 2, 1)\n",
    "demo_simple_image(ax)\n",
    "\n",
    "# PLOT 2\n",
    "# image and colorbar whose location is adjusted in the drawing time.\n",
    "# a hard way\n",
    "demo_locatable_axes_hard(fig)\n",
    "\n",
    "# PLOT 3\n",
    "# image and colorbar whose location is adjusted in the drawing time.\n",
    "# a easy way\n",
    "ax = fig.add_subplot(2, 2, 3)\n",
    "demo_locatable_axes_easy(ax)\n",
    "\n",
    "# PLOT 4\n",
    "# two images side by side with fixed padding.\n",
    "ax = fig.add_subplot(2, 2, 4)\n",
    "demo_images_side_by_side(ax)\n",
    "\n",
    "plt.show()"
   ]
  },
  {
   "cell_type": "code",
   "execution_count": null,
   "metadata": {},
   "outputs": [],
   "source": []
  }
 ],
 "metadata": {
  "kernelspec": {
   "display_name": "graph-env",
   "language": "python",
   "name": "python3"
  },
  "language_info": {
   "codemirror_mode": {
    "name": "ipython",
    "version": 3
   },
   "file_extension": ".py",
   "mimetype": "text/x-python",
   "name": "python",
   "nbconvert_exporter": "python",
   "pygments_lexer": "ipython3",
   "version": "3.9.6"
  },
  "orig_nbformat": 4,
  "vscode": {
   "interpreter": {
    "hash": "8a1d382fcd897a4f5be1c26381092307a09c0027141ddd02f76b68eefa3c14a2"
   }
  }
 },
 "nbformat": 4,
 "nbformat_minor": 2
}

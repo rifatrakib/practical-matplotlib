{
 "cells": [
  {
   "cell_type": "code",
   "execution_count": 1,
   "metadata": {},
   "outputs": [],
   "source": [
    "from matplotlib import cbook\n",
    "import matplotlib.pyplot as plt\n",
    "from mpl_toolkits.axes_grid1 import AxesGrid"
   ]
  },
  {
   "cell_type": "code",
   "execution_count": 2,
   "metadata": {},
   "outputs": [],
   "source": [
    "def get_demo_image():\n",
    "    z = cbook.get_sample_data(\"axes_grid/bivariate_normal.npy\", np_load=True)\n",
    "    # z is a numpy array of 15x15\n",
    "    return z, (-3, 4, -4, 3)"
   ]
  },
  {
   "cell_type": "code",
   "execution_count": 3,
   "metadata": {},
   "outputs": [],
   "source": [
    "def demo_bottom_cbar(fig):\n",
    "    \"\"\"\n",
    "    A grid of 2x2 images with a colorbar for each column.\n",
    "    \"\"\"\n",
    "    grid = AxesGrid(\n",
    "        fig, 121,  # similar to subplot(121)\n",
    "        nrows_ncols=(2, 2), axes_pad=0.10, share_all=True,\n",
    "        label_mode=\"1\", cbar_location=\"bottom\", cbar_mode=\"edge\",\n",
    "        cbar_pad=0.25, cbar_size=\"15%\", direction=\"column\",\n",
    "    )\n",
    "    \n",
    "    Z, extent = get_demo_image()\n",
    "    cmaps = [\"autumn\", \"summer\"]\n",
    "    for i in range(4):\n",
    "        im = grid[i].imshow(Z, extent=extent, cmap=cmaps[i//2])\n",
    "        if i % 2:\n",
    "            grid.cbar_axes[i//2].colorbar(im)\n",
    "    \n",
    "    for cax in grid.cbar_axes:\n",
    "        cax.toggle_label(True)\n",
    "        cax.axis[cax.orientation].set_label(\"Bar\")\n",
    "    \n",
    "    # This affects all axes as share_all = True.\n",
    "    grid.axes_llc.set_xticks([-2, 0, 2])\n",
    "    grid.axes_llc.set_yticks([-2, 0, 2])"
   ]
  },
  {
   "cell_type": "code",
   "execution_count": 4,
   "metadata": {},
   "outputs": [],
   "source": [
    "def demo_right_cbar(fig):\n",
    "    \"\"\"\n",
    "    A grid of 2x2 images. Each row has its own colorbar.\n",
    "    \"\"\"\n",
    "    grid = AxesGrid(fig, 122,  # similar to subplot(122)\n",
    "        nrows_ncols=(2, 2), axes_pad=0.10, label_mode=\"1\", share_all=True,\n",
    "        cbar_location=\"right\", cbar_mode=\"edge\", cbar_size=\"7%\", cbar_pad=\"2%\",\n",
    "    )\n",
    "    \n",
    "    Z, extent = get_demo_image()\n",
    "    cmaps = [\"spring\", \"winter\"]\n",
    "    for i in range(4):\n",
    "        im = grid[i].imshow(Z, extent=extent, cmap=cmaps[i//2])\n",
    "        if i % 2:\n",
    "            grid.cbar_axes[i//2].colorbar(im)\n",
    "    \n",
    "    for cax in grid.cbar_axes:\n",
    "        cax.toggle_label(True)\n",
    "        cax.axis[cax.orientation].set_label(\"Foo\")\n",
    "    \n",
    "    # This affects all axes because we set share_all = True.\n",
    "    grid.axes_llc.set_xticks([-2, 0, 2])\n",
    "    grid.axes_llc.set_yticks([-2, 0, 2])"
   ]
  },
  {
   "cell_type": "code",
   "execution_count": 5,
   "metadata": {},
   "outputs": [
    {
     "data": {
      "image/png": "[encoded data removed]",
      "text/plain": [
       "<Figure size 550x250 with 16 Axes>"
      ]
     },
     "metadata": {},
     "output_type": "display_data"
    }
   ],
   "source": [
    "fig = plt.figure(figsize=(5.5, 2.5))\n",
    "fig.subplots_adjust(left=0.05, right=0.93)\n",
    "\n",
    "demo_bottom_cbar(fig)\n",
    "demo_right_cbar(fig)\n",
    "\n",
    "plt.show()"
   ]
  },
  {
   "cell_type": "code",
   "execution_count": null,
   "metadata": {},
   "outputs": [],
   "source": []
  }
 ],
 "metadata": {
  "kernelspec": {
   "display_name": "graph-env",
   "language": "python",
   "name": "python3"
  },
  "language_info": {
   "codemirror_mode": {
    "name": "ipython",
    "version": 3
   },
   "file_extension": ".py",
   "mimetype": "text/x-python",
   "name": "python",
   "nbconvert_exporter": "python",
   "pygments_lexer": "ipython3",
   "version": "3.9.6"
  },
  "orig_nbformat": 4,
  "vscode": {
   "interpreter": {
    "hash": "8a1d382fcd897a4f5be1c26381092307a09c0027141ddd02f76b68eefa3c14a2"
   }
  }
 },
 "nbformat": 4,
 "nbformat_minor": 2
}

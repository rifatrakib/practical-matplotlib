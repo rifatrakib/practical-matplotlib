{
 "cells": [
  {
   "cell_type": "code",
   "execution_count": 1,
   "metadata": {},
   "outputs": [],
   "source": [
    "from matplotlib import cbook\n",
    "import matplotlib.pyplot as plt\n",
    "from mpl_toolkits.axes_grid1 import ImageGrid"
   ]
  },
  {
   "cell_type": "code",
   "execution_count": 2,
   "metadata": {},
   "outputs": [],
   "source": [
    "def get_demo_image():\n",
    "    z = cbook.get_sample_data(\"axes_grid/bivariate_normal.npy\", np_load=True)\n",
    "    # z is a numpy array of 15x15\n",
    "    return z, (-3, 4, -4, 3)"
   ]
  },
  {
   "cell_type": "code",
   "execution_count": 3,
   "metadata": {},
   "outputs": [],
   "source": [
    "def demo_simple_grid(fig):\n",
    "    \"\"\"\n",
    "    A grid of 2x2 images with 0.05 inch pad between images and only\n",
    "    the lower-left axes is labeled.\n",
    "    \"\"\"\n",
    "    grid = ImageGrid(\n",
    "        fig, 141,  # similar to subplot(141)\n",
    "        nrows_ncols=(2, 2), axes_pad=0.05, label_mode=\"1\",\n",
    "    )\n",
    "    Z, extent = get_demo_image()\n",
    "    for ax in grid:\n",
    "        ax.imshow(Z, extent=extent)\n",
    "    # This only affects axes in first column and second row as share_all=False.\n",
    "    grid.axes_llc.set_xticks([-2, 0, 2])\n",
    "    grid.axes_llc.set_yticks([-2, 0, 2])"
   ]
  },
  {
   "cell_type": "code",
   "execution_count": 4,
   "metadata": {},
   "outputs": [],
   "source": [
    "def demo_grid_with_single_cbar(fig):\n",
    "    \"\"\"\n",
    "    A grid of 2x2 images with a single colorbar\n",
    "    \"\"\"\n",
    "    grid = ImageGrid(\n",
    "        fig, 142,  # similar to subplot(142)\n",
    "        nrows_ncols=(2, 2), axes_pad=0.0, share_all=True,\n",
    "        label_mode=\"L\", cbar_location=\"top\", cbar_mode=\"single\",\n",
    "    )\n",
    "    \n",
    "    Z, extent = get_demo_image()\n",
    "    for ax in grid:\n",
    "        im = ax.imshow(Z, extent=extent)\n",
    "    \n",
    "    grid.cbar_axes[0].colorbar(im)\n",
    "    \n",
    "    for cax in grid.cbar_axes:\n",
    "        cax.toggle_label(False)\n",
    "    \n",
    "    # This affects all axes as share_all = True.\n",
    "    grid.axes_llc.set_xticks([-2, 0, 2])\n",
    "    grid.axes_llc.set_yticks([-2, 0, 2])"
   ]
  },
  {
   "cell_type": "code",
   "execution_count": 5,
   "metadata": {},
   "outputs": [],
   "source": [
    "def demo_grid_with_each_cbar(fig):\n",
    "    \"\"\"\n",
    "    A grid of 2x2 images. Each image has its own colorbar.\n",
    "    \"\"\"\n",
    "    grid = ImageGrid(\n",
    "        fig, 143,  # similar to subplot(143)\n",
    "        nrows_ncols=(2, 2), axes_pad=0.1, label_mode=\"1\", share_all=True,\n",
    "        cbar_location=\"top\", cbar_mode=\"each\", cbar_size=\"7%\", cbar_pad=\"2%\",\n",
    "    )\n",
    "    Z, extent = get_demo_image()\n",
    "    for ax, cax in zip(grid, grid.cbar_axes):\n",
    "        im = ax.imshow(Z, extent=extent)\n",
    "        cax.colorbar(im)\n",
    "        cax.toggle_label(False)\n",
    "    \n",
    "    # This affects all axes because we set share_all = True.\n",
    "    grid.axes_llc.set_xticks([-2, 0, 2])\n",
    "    grid.axes_llc.set_yticks([-2, 0, 2])"
   ]
  },
  {
   "cell_type": "code",
   "execution_count": 6,
   "metadata": {},
   "outputs": [],
   "source": [
    "def demo_grid_with_each_cbar_labelled(fig):\n",
    "    \"\"\"\n",
    "    A grid of 2x2 images. Each image has its own colorbar.\n",
    "    \"\"\"\n",
    "    grid = ImageGrid(\n",
    "        fig, 144,  # similar to subplot(144)\n",
    "        nrows_ncols=(2, 2), axes_pad=(0.45, 0.15), label_mode=\"1\", share_all=True,\n",
    "        cbar_location=\"right\", cbar_mode=\"each\", cbar_size=\"7%\", cbar_pad=\"2%\",\n",
    "    )\n",
    "    Z, extent = get_demo_image()\n",
    "    \n",
    "    # Use a different colorbar range every time\n",
    "    limits = ((0, 1), (-2, 2), (-1.7, 1.4), (-1.5, 1))\n",
    "    for ax, cax, vlim in zip(grid, grid.cbar_axes, limits):\n",
    "        im = ax.imshow(Z, extent=extent, vmin=vlim[0], vmax=vlim[1])\n",
    "        cb = cax.colorbar(im)\n",
    "        cb.set_ticks((vlim[0], vlim[1]))\n",
    "    \n",
    "    # This affects all axes because we set share_all = True.\n",
    "    grid.axes_llc.set_xticks([-2, 0, 2])\n",
    "    grid.axes_llc.set_yticks([-2, 0, 2])"
   ]
  },
  {
   "cell_type": "code",
   "execution_count": 7,
   "metadata": {},
   "outputs": [
    {
     "data": {
      "image/png": "[encoded data removed]",
      "text/plain": [
       "<Figure size 1050x250 with 32 Axes>"
      ]
     },
     "metadata": {},
     "output_type": "display_data"
    }
   ],
   "source": [
    "fig = plt.figure(figsize=(10.5, 2.5))\n",
    "fig.subplots_adjust(left=0.05, right=0.95)\n",
    "\n",
    "demo_simple_grid(fig)\n",
    "demo_grid_with_single_cbar(fig)\n",
    "demo_grid_with_each_cbar(fig)\n",
    "demo_grid_with_each_cbar_labelled(fig)\n",
    "\n",
    "plt.show()"
   ]
  },
  {
   "cell_type": "code",
   "execution_count": null,
   "metadata": {},
   "outputs": [],
   "source": []
  }
 ],
 "metadata": {
  "kernelspec": {
   "display_name": "graph-env",
   "language": "python",
   "name": "python3"
  },
  "language_info": {
   "codemirror_mode": {
    "name": "ipython",
    "version": 3
   },
   "file_extension": ".py",
   "mimetype": "text/x-python",
   "name": "python",
   "nbconvert_exporter": "python",
   "pygments_lexer": "ipython3",
   "version": "3.9.6"
  },
  "orig_nbformat": 4,
  "vscode": {
   "interpreter": {
    "hash": "8a1d382fcd897a4f5be1c26381092307a09c0027141ddd02f76b68eefa3c14a2"
   }
  }
 },
 "nbformat": 4,
 "nbformat_minor": 2
}

{
 "cells": [
  {
   "cell_type": "code",
   "execution_count": 1,
   "metadata": {},
   "outputs": [],
   "source": [
    "import matplotlib.pyplot as plt\n",
    "from matplotlib.patches import Circle\n",
    "from matplotlib.offsetbox import AnchoredText\n",
    "from mpl_toolkits.axes_grid1.anchored_artists import (\n",
    "    AnchoredDrawingArea, AnchoredEllipse, AnchoredSizeBar,\n",
    ")"
   ]
  },
  {
   "cell_type": "code",
   "execution_count": 2,
   "metadata": {},
   "outputs": [],
   "source": [
    "def draw_text(ax):\n",
    "    \"\"\"\n",
    "    Draw two text-boxes, anchored by different corners to the upper-left\n",
    "    corner of the figure.\n",
    "    \"\"\"\n",
    "    at = AnchoredText(\"Figure 1a\", loc=\"upper left\", prop={\"size\": 8}, frameon=True)\n",
    "    at.patch.set_boxstyle(\"round,pad=0.,rounding_size=0.2\")\n",
    "    ax.add_artist(at)\n",
    "    \n",
    "    at2 = AnchoredText(\n",
    "        \"Figure 1(b)\", loc=\"lower left\", prop={\"size\": 8}, frameon=True,\n",
    "        bbox_to_anchor=(0., 1.), bbox_transform=ax.transAxes,\n",
    "    )\n",
    "    at2.patch.set_boxstyle(\"round,pad=0.,rounding_size=0.2\")\n",
    "    ax.add_artist(at2)"
   ]
  },
  {
   "cell_type": "code",
   "execution_count": 3,
   "metadata": {},
   "outputs": [],
   "source": [
    "def draw_circle(ax):\n",
    "    \"\"\"\n",
    "    Draw a circle in axis coordinates\n",
    "    \"\"\"\n",
    "    ada = AnchoredDrawingArea(20, 20, 0, 0, loc=\"upper right\", pad=0, frameon=False)\n",
    "    p = Circle((10, 10), 10)\n",
    "    ada.da.add_artist(p)\n",
    "    ax.add_artist(ada)"
   ]
  },
  {
   "cell_type": "code",
   "execution_count": 4,
   "metadata": {},
   "outputs": [],
   "source": [
    "def draw_ellipse(ax):\n",
    "    \"\"\"\n",
    "    Draw an ellipse of width=0.1, height=0.15 in data coordinates\n",
    "    \"\"\"\n",
    "    ae = AnchoredEllipse(\n",
    "        ax.transData, width=0.1, height=0.15, angle=0.0,\n",
    "        loc='lower left', pad=0.5, borderpad=0.4, frameon=True\n",
    "    )"
   ]
  },
  {
   "cell_type": "code",
   "execution_count": 5,
   "metadata": {},
   "outputs": [],
   "source": [
    "def draw_sizebar(ax):\n",
    "    \"\"\"\n",
    "    Draw a horizontal bar with length of 0.1 in data coordinates,\n",
    "    with a fixed label underneath.\n",
    "    \"\"\"\n",
    "    asb = AnchoredSizeBar(\n",
    "        ax.transData, 0.1, r\"1$^{\\prime}$\", loc=\"lower center\",\n",
    "        pad=0.1, borderpad=0.5, sep=5, frameon=False\n",
    "    )\n",
    "    ax.add_artist(asb)"
   ]
  },
  {
   "cell_type": "code",
   "execution_count": 6,
   "metadata": {},
   "outputs": [
    {
     "data": {
      "image/png": "[encoded data removed]",
      "text/plain": [
       "<Figure size 640x480 with 1 Axes>"
      ]
     },
     "metadata": {},
     "output_type": "display_data"
    }
   ],
   "source": [
    "fig, ax = plt.subplots()\n",
    "ax.set_aspect(1.0)\n",
    "\n",
    "draw_text(ax)\n",
    "draw_circle(ax)\n",
    "draw_ellipse(ax)\n",
    "draw_sizebar(ax)\n",
    "\n",
    "plt.show()"
   ]
  },
  {
   "cell_type": "code",
   "execution_count": null,
   "metadata": {},
   "outputs": [],
   "source": []
  }
 ],
 "metadata": {
  "kernelspec": {
   "display_name": "graph-env",
   "language": "python",
   "name": "python3"
  },
  "language_info": {
   "codemirror_mode": {
    "name": "ipython",
    "version": 3
   },
   "file_extension": ".py",
   "mimetype": "text/x-python",
   "name": "python",
   "nbconvert_exporter": "python",
   "pygments_lexer": "ipython3",
   "version": "3.9.6"
  },
  "orig_nbformat": 4,
  "vscode": {
   "interpreter": {
    "hash": "8a1d382fcd897a4f5be1c26381092307a09c0027141ddd02f76b68eefa3c14a2"
   }
  }
 },
 "nbformat": 4,
 "nbformat_minor": 2
}

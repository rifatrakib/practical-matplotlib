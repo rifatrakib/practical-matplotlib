{
 "cells": [
  {
   "cell_type": "code",
   "execution_count": 1,
   "metadata": {},
   "outputs": [],
   "source": [
    "import matplotlib.pyplot as plt\n",
    "from mpl_toolkits.axes_grid1 import Divider\n",
    "import mpl_toolkits.axes_grid1.axes_size as Size"
   ]
  },
  {
   "cell_type": "code",
   "execution_count": 2,
   "metadata": {},
   "outputs": [
    {
     "data": {
      "image/png": "[encoded data removed]",
      "text/plain": [
       "<Figure size 550x400 with 4 Axes>"
      ]
     },
     "metadata": {},
     "output_type": "display_data"
    }
   ],
   "source": [
    "fig = plt.figure(figsize=(5.5, 4))\n",
    "\n",
    "# the rect parameter will be ignore as we will set axes_locator\n",
    "rect = (0.1, 0.1, 0.8, 0.8)\n",
    "ax = [fig.add_axes(rect, label=\"%d\" % i) for i in range(4)]\n",
    "\n",
    "horiz = [Size.AxesX(ax[0]), Size.Fixed(0.5), Size.AxesX(ax[1])]\n",
    "vert = [Size.AxesY(ax[0]), Size.Fixed(0.5), Size.AxesY(ax[2])]\n",
    "\n",
    "# divide the axes rectangle into grid whose size is specified by horiz * vert\n",
    "divider = Divider(fig, rect, horiz, vert, aspect=False)\n",
    "\n",
    "ax[0].set_axes_locator(divider.new_locator(nx=0, ny=0))\n",
    "ax[1].set_axes_locator(divider.new_locator(nx=2, ny=0))\n",
    "ax[2].set_axes_locator(divider.new_locator(nx=0, ny=2))\n",
    "ax[3].set_axes_locator(divider.new_locator(nx=2, ny=2))\n",
    "\n",
    "ax[0].set_xlim(0, 2)\n",
    "ax[0].set_ylim(0, 1)\n",
    "ax[1].set_xlim(0, 1)\n",
    "ax[2].set_ylim(0, 2)\n",
    "\n",
    "divider.set_aspect(1.0)\n",
    "\n",
    "for ax1 in ax:\n",
    "    ax1.tick_params(labelbottom=False, labelleft=False)\n",
    "\n",
    "plt.show()"
   ]
  },
  {
   "cell_type": "code",
   "execution_count": null,
   "metadata": {},
   "outputs": [],
   "source": []
  }
 ],
 "metadata": {
  "kernelspec": {
   "display_name": "graph-env",
   "language": "python",
   "name": "python3"
  },
  "language_info": {
   "codemirror_mode": {
    "name": "ipython",
    "version": 3
   },
   "file_extension": ".py",
   "mimetype": "text/x-python",
   "name": "python",
   "nbconvert_exporter": "python",
   "pygments_lexer": "ipython3",
   "version": "3.9.6"
  },
  "orig_nbformat": 4,
  "vscode": {
   "interpreter": {
    "hash": "8a1d382fcd897a4f5be1c26381092307a09c0027141ddd02f76b68eefa3c14a2"
   }
  }
 },
 "nbformat": 4,
 "nbformat_minor": 2
}

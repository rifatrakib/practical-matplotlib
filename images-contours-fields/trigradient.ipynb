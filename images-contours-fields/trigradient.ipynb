{
 "cells": [
  {
   "cell_type": "code",
   "execution_count": 1,
   "metadata": {},
   "outputs": [],
   "source": [
    "import numpy as np\n",
    "import matplotlib.pyplot as plt\n",
    "from matplotlib.tri import Triangulation, UniformTriRefiner, CubicTriInterpolator"
   ]
  },
  {
   "cell_type": "code",
   "execution_count": 2,
   "metadata": {},
   "outputs": [],
   "source": [
    "def dipole_potential(x, y):\n",
    "    \"\"\"the electric dipole potential V, at position *x*, *y*.\"\"\"\n",
    "    r_sq = x ** 2 + y ** 2\n",
    "    theta = np.arctan2(y, x)\n",
    "    z = np.cos(theta) / r_sq\n",
    "    return (np.max(z) - z) / (np.max(z) - np.min(z))"
   ]
  },
  {
   "cell_type": "code",
   "execution_count": 3,
   "metadata": {},
   "outputs": [],
   "source": [
    "n_angles = 30\n",
    "n_radii = 10\n",
    "min_radius = 0.2\n",
    "radii = np.linspace(min_radius, 0.95, n_radii)"
   ]
  },
  {
   "cell_type": "code",
   "execution_count": 4,
   "metadata": {},
   "outputs": [],
   "source": [
    "angles = np.linspace(0, 2 * np.pi, n_angles, endpoint=False)\n",
    "angles = np.repeat(angles[..., np.newaxis], n_radii, axis=1)\n",
    "angles[:, 1::2] += np.pi / n_angles"
   ]
  },
  {
   "cell_type": "code",
   "execution_count": 5,
   "metadata": {},
   "outputs": [],
   "source": [
    "x = (radii * np.cos(angles)).flatten()\n",
    "y = (radii * np.sin(angles)).flatten()\n",
    "v = dipole_potential(x, y)"
   ]
  },
  {
   "cell_type": "code",
   "execution_count": 6,
   "metadata": {},
   "outputs": [],
   "source": [
    "# create the Triangulation; no triangles specified so Delaunay triangulation created\n",
    "triang = Triangulation(x, y)\n",
    "\n",
    "# mask off unwanted triangles\n",
    "triang.set_mask(\n",
    "    np.hypot(\n",
    "        x[triang.triangles].mean(axis=1), y[triang.triangles].mean(axis=1)\n",
    "    ) < min_radius\n",
    ")"
   ]
  },
  {
   "cell_type": "code",
   "execution_count": 7,
   "metadata": {},
   "outputs": [],
   "source": [
    "# refine data - interpolates the electrical potential v\n",
    "refiner = UniformTriRefiner(triang)\n",
    "tri_refi, z_test_refi = refiner.refine_field(v, subdiv=3)\n",
    "\n",
    "# computes the electrical field (ex, ey) as gradient of electrical potential\n",
    "tci = CubicTriInterpolator(triang, -v)\n",
    "# gradient requested here at the mesh nodes but could be anywhere else\n",
    "ex, ey = tci.gradient(triang.x, triang.y)\n",
    "e_norm = np.sqrt(ex ** 2 + ey ** 2)"
   ]
  },
  {
   "cell_type": "code",
   "execution_count": null,
   "metadata": {},
   "outputs": [],
   "source": []
  }
 ],
 "metadata": {
  "kernelspec": {
   "display_name": "Python 3.9.6 ('graph-env': venv)",
   "language": "python",
   "name": "python3"
  },
  "language_info": {
   "codemirror_mode": {
    "name": "ipython",
    "version": 3
   },
   "file_extension": ".py",
   "mimetype": "text/x-python",
   "name": "python",
   "nbconvert_exporter": "python",
   "pygments_lexer": "ipython3",
   "version": "3.9.6"
  },
  "orig_nbformat": 4,
  "vscode": {
   "interpreter": {
    "hash": "8a1d382fcd897a4f5be1c26381092307a09c0027141ddd02f76b68eefa3c14a2"
   }
  }
 },
 "nbformat": 4,
 "nbformat_minor": 2
}

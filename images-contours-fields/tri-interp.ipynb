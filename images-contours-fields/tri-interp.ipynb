{
 "cells": [
  {
   "cell_type": "code",
   "execution_count": 1,
   "metadata": {},
   "outputs": [],
   "source": [
    "import numpy as np\n",
    "import matplotlib.tri as tri\n",
    "import matplotlib.pyplot as plt"
   ]
  },
  {
   "cell_type": "code",
   "execution_count": 2,
   "metadata": {},
   "outputs": [],
   "source": [
    "# create triangulation data\n",
    "x = np.array([0, 1, 2, 3, 0.5, 1.5, 2.5, 1, 2, 1.5])\n",
    "y = np.array([0, 0, 0, 0, 1.0, 1.0, 1.0, 2, 2, 3.0])\n",
    "triangles = [\n",
    "    [0, 1, 4],\n",
    "    [1, 2, 5],\n",
    "    [2, 3, 6],\n",
    "    [1, 5, 4],\n",
    "    [2, 6, 5],\n",
    "    [4, 5, 7],\n",
    "    [5, 6, 8],\n",
    "    [5, 8, 7],\n",
    "    [7, 8, 9]\n",
    "]\n",
    "\n",
    "triang = tri.Triangulation(x, y, triangles)"
   ]
  },
  {
   "cell_type": "code",
   "execution_count": 3,
   "metadata": {},
   "outputs": [],
   "source": [
    "# interpolate to regularly-spaced quad grid\n",
    "z = np.cos(1.5 * x) * np.cos(1.5 * y)\n",
    "xi, yi = np.meshgrid(np.linspace(0, 3, 20), np.linspace(0, 3, 20))"
   ]
  },
  {
   "cell_type": "code",
   "execution_count": 4,
   "metadata": {},
   "outputs": [],
   "source": [
    "interp_linear = tri.LinearTriInterpolator(triang, z)\n",
    "zi_linear = interp_linear(xi, yi)"
   ]
  },
  {
   "cell_type": "code",
   "execution_count": 5,
   "metadata": {},
   "outputs": [],
   "source": [
    "interp_cubic_geometric = tri.CubicTriInterpolator(triang, z, kind=\"geom\")\n",
    "zi_cubic_geometric = interp_cubic_geometric(xi, yi)"
   ]
  },
  {
   "cell_type": "code",
   "execution_count": 6,
   "metadata": {},
   "outputs": [],
   "source": [
    "interp_cubic_min_e = tri.CubicTriInterpolator(triang, z, kind=\"min_E\")\n",
    "zi_cubic_min_e = interp_cubic_min_e(xi, yi)"
   ]
  },
  {
   "cell_type": "code",
   "execution_count": null,
   "metadata": {},
   "outputs": [],
   "source": []
  }
 ],
 "metadata": {
  "kernelspec": {
   "display_name": "Python 3.9.6 ('graph-env': venv)",
   "language": "python",
   "name": "python3"
  },
  "language_info": {
   "codemirror_mode": {
    "name": "ipython",
    "version": 3
   },
   "file_extension": ".py",
   "mimetype": "text/x-python",
   "name": "python",
   "nbconvert_exporter": "python",
   "pygments_lexer": "ipython3",
   "version": "3.9.6"
  },
  "orig_nbformat": 4,
  "vscode": {
   "interpreter": {
    "hash": "8a1d382fcd897a4f5be1c26381092307a09c0027141ddd02f76b68eefa3c14a2"
   }
  }
 },
 "nbformat": 4,
 "nbformat_minor": 2
}

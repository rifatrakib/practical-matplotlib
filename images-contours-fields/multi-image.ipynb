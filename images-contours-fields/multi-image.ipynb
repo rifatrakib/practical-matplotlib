{
 "cells": [
  {
   "cell_type": "code",
   "execution_count": 1,
   "metadata": {},
   "outputs": [],
   "source": [
    "import numpy as np\n",
    "import matplotlib.pyplot as plt\n",
    "import matplotlib.colors as colors"
   ]
  },
  {
   "cell_type": "code",
   "execution_count": 2,
   "metadata": {},
   "outputs": [],
   "source": [
    "np.random.seed(1944790021)"
   ]
  },
  {
   "cell_type": "code",
   "execution_count": 3,
   "metadata": {},
   "outputs": [],
   "source": [
    "nrows = 3\n",
    "ncols = 2"
   ]
  },
  {
   "cell_type": "code",
   "execution_count": 4,
   "metadata": {},
   "outputs": [
    {
     "data": {
      "image/png": "[encoded data removed]",
      "text/plain": [
       "<Figure size 432x288 with 7 Axes>"
      ]
     },
     "metadata": {
      "needs_background": "light"
     },
     "output_type": "display_data"
    }
   ],
   "source": [
    "fig, axs = plt.subplots(nrows, ncols)\n",
    "fig.suptitle(\"multiple images\")\n",
    "\n",
    "images = []\n",
    "for i in range(nrows):\n",
    "    for j in range(ncols):\n",
    "        # generate data with a range that varies from one plot to the next\n",
    "        data = ((1 + i + j) / 10) * np.random.rand(10, 20)\n",
    "        images.append(axs[i, j].imshow(data))\n",
    "        axs[i, j].label_outer()\n",
    "\n",
    "# find the min and max of all colors for use in setting the color scale\n",
    "vmin = min(image.get_array().min() for image in images)\n",
    "vmax = max(image.get_array().max() for image in images)\n",
    "norm = colors.Normalize(vmin=vmin, vmax=vmax)\n",
    "\n",
    "for im in images:\n",
    "    im.set_norm(norm)\n",
    "\n",
    "fig.colorbar(images[0], ax=axs, orientation=\"horizontal\", fraction=0.1)\n",
    "\n",
    "# make images respond to changes in the norm of other images (e.g. via the \"edit axis,\n",
    "# curves and images parameters\" GUI on Qt), but be careful not to recurse infinitely!\n",
    "def update(changed_image, images):\n",
    "    for im in images:\n",
    "        if (\n",
    "            changed_image.get_cmap() != im.get_cmap() or\n",
    "            changed_image.get_clim() != im.get_clim()\n",
    "        ):\n",
    "            im.set_cmap(changed_image.get_cmap())\n",
    "            im.set_clim(changed_image.get_clim())\n",
    "\n",
    "for im in images:\n",
    "    im.callbacks.connect(\"changed\", update)\n",
    "\n",
    "plt.show()"
   ]
  },
  {
   "cell_type": "code",
   "execution_count": null,
   "metadata": {},
   "outputs": [],
   "source": []
  }
 ],
 "metadata": {
  "kernelspec": {
   "display_name": "Python 3.9.6 ('graph-env': venv)",
   "language": "python",
   "name": "python3"
  },
  "language_info": {
   "codemirror_mode": {
    "name": "ipython",
    "version": 3
   },
   "file_extension": ".py",
   "mimetype": "text/x-python",
   "name": "python",
   "nbconvert_exporter": "python",
   "pygments_lexer": "ipython3",
   "version": "3.9.6"
  },
  "orig_nbformat": 4,
  "vscode": {
   "interpreter": {
    "hash": "8a1d382fcd897a4f5be1c26381092307a09c0027141ddd02f76b68eefa3c14a2"
   }
  }
 },
 "nbformat": 4,
 "nbformat_minor": 2
}

{
 "cells": [
  {
   "cell_type": "code",
   "execution_count": 1,
   "metadata": {},
   "outputs": [],
   "source": [
    "import numpy as np\n",
    "from numpy import ma\n",
    "import matplotlib.pyplot as plt\n",
    "from matplotlib import ticker, cm"
   ]
  },
  {
   "cell_type": "code",
   "execution_count": 2,
   "metadata": {},
   "outputs": [],
   "source": [
    "n = 100\n",
    "x, y = np.meshgrid(np.linspace(-3.0, 3.0, n), np.linspace(-2.0, 2.0, n))\n",
    "\n",
    "# a low hump with a spike coming out.\n",
    "# needs to have z/colour axis on a log scale so we see both hump and spike.\n",
    "# linear scale only shows the spike.\n",
    "z1 = np.exp(-x ** 2 - y ** 2)\n",
    "z2 = np.exp(-(x * 10) ** 2 - (y * 10) ** 2)\n",
    "z = z1 + 50 * z2\n",
    "\n",
    "# put in some negative values (lower left corner) to cause trouble with logs:\n",
    "z[:5, :5] = -1\n",
    "\n",
    "# the following is not strictly essential, but it will eliminate a warning.\n",
    "# comment it out to see the warning.\n",
    "z = ma.masked_where(z <= 0, z)"
   ]
  },
  {
   "cell_type": "code",
   "execution_count": 3,
   "metadata": {},
   "outputs": [
    {
     "data": {
      "image/png": "[encoded data removed]",
      "text/plain": [
       "<Figure size 432x288 with 2 Axes>"
      ]
     },
     "metadata": {
      "needs_background": "light"
     },
     "output_type": "display_data"
    }
   ],
   "source": [
    "# automatic selection of levels works; setting the\n",
    "# log locator tells contourf to use a log scale:\n",
    "fig, ax = plt.subplots()\n",
    "\n",
    "cs = ax.contourf(x, y, z, locator=ticker.LogLocator(), cmap=cm.PuBu_r)\n",
    "cbar = fig.colorbar(cs)\n",
    "\n",
    "plt.show()"
   ]
  },
  {
   "cell_type": "code",
   "execution_count": null,
   "metadata": {},
   "outputs": [],
   "source": []
  }
 ],
 "metadata": {
  "kernelspec": {
   "display_name": "Python 3.9.6 ('graph-env': venv)",
   "language": "python",
   "name": "python3"
  },
  "language_info": {
   "codemirror_mode": {
    "name": "ipython",
    "version": 3
   },
   "file_extension": ".py",
   "mimetype": "text/x-python",
   "name": "python",
   "nbconvert_exporter": "python",
   "pygments_lexer": "ipython3",
   "version": "3.9.6"
  },
  "orig_nbformat": 4,
  "vscode": {
   "interpreter": {
    "hash": "8a1d382fcd897a4f5be1c26381092307a09c0027141ddd02f76b68eefa3c14a2"
   }
  }
 },
 "nbformat": 4,
 "nbformat_minor": 2
}

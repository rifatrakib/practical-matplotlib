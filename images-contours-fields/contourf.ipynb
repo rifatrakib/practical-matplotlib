{
 "cells": [
  {
   "cell_type": "code",
   "execution_count": 1,
   "metadata": {},
   "outputs": [],
   "source": [
    "import numpy as np\n",
    "import matplotlib.pyplot as plt"
   ]
  },
  {
   "cell_type": "code",
   "execution_count": 2,
   "metadata": {},
   "outputs": [],
   "source": [
    "origin = \"lower\"\n",
    "delta = 0.025\n",
    "\n",
    "x, y = np.meshgrid(np.arange(-3.0, 3.01, delta), np.arange(-3.0, 3.01, delta))\n",
    "z1 = np.exp(-x ** 2 - y ** 2)\n",
    "z2 = np.exp(-(x - 1) ** 2 - (y - 1) ** 2)\n",
    "z = (z1 - z2) * 2"
   ]
  },
  {
   "cell_type": "code",
   "execution_count": 3,
   "metadata": {},
   "outputs": [],
   "source": [
    "nr, nc = z.shape\n",
    "\n",
    "# put NaNs in one corner:\n",
    "z[-nr // 6:, -nc // 6:] = np.nan\n",
    "# contourf will convert these to masked\n",
    "\n",
    "z = np.ma.array(z)\n",
    "# mask another corner:\n",
    "z[:nr // 6, :nc // 6] = np.ma.masked\n",
    "\n",
    "# mask a circle in the middle:\n",
    "interior = np.sqrt(x ** 2 + y ** 2) < 0.5\n",
    "z[interior] = np.ma.masked"
   ]
  },
  {
   "cell_type": "code",
   "execution_count": null,
   "metadata": {},
   "outputs": [],
   "source": [
    "# automatic contour levels\n"
   ]
  }
 ],
 "metadata": {
  "kernelspec": {
   "display_name": "Python 3.9.6 ('graph-env': venv)",
   "language": "python",
   "name": "python3"
  },
  "language_info": {
   "name": "python",
   "version": "3.9.6"
  },
  "orig_nbformat": 4,
  "vscode": {
   "interpreter": {
    "hash": "8a1d382fcd897a4f5be1c26381092307a09c0027141ddd02f76b68eefa3c14a2"
   }
  }
 },
 "nbformat": 4,
 "nbformat_minor": 2
}
